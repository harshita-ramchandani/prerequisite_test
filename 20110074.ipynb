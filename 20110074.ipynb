{
 "cells": [
  {
   "attachments": {},
   "cell_type": "markdown",
   "metadata": {},
   "source": [
    "<h1>Question1</h1>"
   ]
  },
  {
   "attachments": {},
   "cell_type": "markdown",
   "metadata": {},
   "source": [
    "If we have two vector matrices. Of dimensions *kx1* and 1xk, The resultant of this matrix multiplication will consist of a scalar which would have *k* multiplications and *(k-1)* additions.\n",
    "\n",
    "Now, if we repeat the process with matrices *(n,k)* and *(k,m)* the total multiplications required would be k*m*n and total additions would be (k-1)*m*n"
   ]
  },
  {
   "attachments": {},
   "cell_type": "markdown",
   "metadata": {},
   "source": [
    "<h1>Question2</h1>"
   ]
  },
  {
   "cell_type": "code",
   "execution_count": 3,
   "metadata": {},
   "outputs": [],
   "source": [
    "#time module import\n",
    "import time\n",
    "#numpy import\n",
    "import numpy as np"
   ]
  },
  {
   "cell_type": "code",
   "execution_count": 4,
   "metadata": {},
   "outputs": [],
   "source": [
    "#program for multiplying two matrices\n",
    "def matrixmultiply(A, B):\n",
    "    if len(A[0]) != len(B):\n",
    "        return \"Error\"\n",
    "    result = []\n",
    "    for i in range(len(A)):\n",
    "        row = []\n",
    "        for j in range(len(B[0])):\n",
    "            sum = 0\n",
    "            for k in range(len(B)):\n",
    "                sum += A[i][k] * B[k][j]\n",
    "            row.append(sum)\n",
    "        result.append(row)\n",
    "    return result"
   ]
  },
  {
   "cell_type": "code",
   "execution_count": 5,
   "metadata": {},
   "outputs": [],
   "source": [
    "#program for multiplying two matrices using numpy\n",
    "def multiply_matrices(A, B):\n",
    "   \n",
    "    return np.dot(A, B)"
   ]
  },
  {
   "cell_type": "code",
   "execution_count": 6,
   "metadata": {},
   "outputs": [
    {
     "name": "stdout",
     "output_type": "stream",
     "text": [
      "[[30, 36, 42], [66, 81, 96], [102, 126, 150]]\n",
      "The time of execution of above program is : 0.05817413330078125 ms\n"
     ]
    }
   ],
   "source": [
    "A = [[1, 2, 3], [4, 5, 6], [7, 8, 9]]\n",
    "B = [[1, 2, 3], [4, 5, 6], [7, 8, 9]]\n",
    "#starting to record time\n",
    "start = time.time()\n",
    "print(matrixmultiply(A, B))\n",
    "end = time.time()\n",
    "\n",
    "print(\"The time of execution of above program is :\",\n",
    "      (end-start) * 10**3, \"ms\")"
   ]
  },
  {
   "cell_type": "code",
   "execution_count": 7,
   "metadata": {},
   "outputs": [
    {
     "name": "stdout",
     "output_type": "stream",
     "text": [
      "[[ 30  36  42]\n",
      " [ 66  81  96]\n",
      " [102 126 150]]\n",
      "The time of execution of above program is : 0.3578662872314453 ms\n"
     ]
    }
   ],
   "source": [
    "A = np.array([[1, 2, 3], [4, 5, 6], [7, 8, 9]])\n",
    "B = np.array([[1, 2, 3], [4, 5, 6], [7, 8, 9]])\n",
    "#starting to record time\n",
    "start = time.time()\n",
    "print(multiply_matrices(A, B))\n",
    "end = time.time()\n",
    "\n",
    "print(\"The time of execution of above program is :\",\n",
    "      (end-start) * 10**3, \"ms\")"
   ]
  },
  {
   "attachments": {},
   "cell_type": "markdown",
   "metadata": {},
   "source": [
    "<h1>Question3</h1>"
   ]
  },
  {
   "cell_type": "code",
   "execution_count": 8,
   "metadata": {},
   "outputs": [],
   "source": [
    "#this approach of sorting the array would take O(n^2)\n",
    "def maximum(l):\n",
    "    max=l[0]\n",
    "    for i in range(0,len(l)):\n",
    "        if(l[i]>max):\n",
    "            max=l[i]\n",
    "    l.remove(max)\n",
    "    return max\n",
    "    "
   ]
  },
  {
   "cell_type": "code",
   "execution_count": 9,
   "metadata": {},
   "outputs": [],
   "source": [
    "#finding the median would take constant time\n",
    "def median(arr):\n",
    "    if len(arr) % 2 == 0:\n",
    "        print((arr[len(arr) // 2] + arr[len(arr) // 2 - 1]) / 2)\n",
    "    else:\n",
    "        print(arr[len(arr) // 2])"
   ]
  },
  {
   "cell_type": "code",
   "execution_count": 10,
   "metadata": {},
   "outputs": [],
   "source": [
    "#using countsort algorithm this is of O(n)\n",
    "def countsort(arr):\n",
    "    size = len(arr)\n",
    "    output = [0] * size\n",
    "\n",
    "    # count array initialization\n",
    "    count = [0] * 10\n",
    "\n",
    "    # storing the count of each element \n",
    "    for m in range(0, size):\n",
    "        count[arr[m]] += 1\n",
    "\n",
    "    # storing the cumulative count\n",
    "    for m in range(1, 10):\n",
    "        count[m] += count[m - 1]\n",
    "\n",
    "    # place the elements in output array after finding the index of each element of original array in count array\n",
    "    m = size - 1\n",
    "    while m >= 0:\n",
    "        output[count[arr[m]] - 1] = arr[m]\n",
    "        count[arr[m]] -= 1\n",
    "        m -= 1\n",
    "\n",
    "    for m in range(0, size):\n",
    "        arr[m] = output[m]\n",
    "\n",
    "    if len(arr) % 2 == 0:\n",
    "        print((arr[len(arr) // 2] + arr[len(arr) // 2 - 1]) / 2)\n",
    "    else:\n",
    "        print(arr[len(arr) // 2])"
   ]
  },
  {
   "cell_type": "code",
   "execution_count": 11,
   "metadata": {},
   "outputs": [],
   "source": [
    "import numpy as np"
   ]
  },
  {
   "cell_type": "code",
   "execution_count": 12,
   "metadata": {},
   "outputs": [],
   "source": [
    "def median_np(arr):\n",
    "    return np.median(arr)"
   ]
  },
  {
   "cell_type": "code",
   "execution_count": 13,
   "metadata": {},
   "outputs": [
    {
     "name": "stdout",
     "output_type": "stream",
     "text": [
      "4\n",
      "The time of execution of above program is : 0.0629425048828125 ms\n"
     ]
    }
   ],
   "source": [
    "l=[1,2,3,4,5,6,7]\n",
    "#time module import\n",
    "import time\n",
    "#starting to record time\n",
    "start = time.time()\n",
    "sorted_arr=[]\n",
    "while(len(l)>0):\n",
    "    num=maximum(l)\n",
    "    sorted_arr.append(num)\n",
    "median(sorted_arr)\n",
    "end = time.time()\n",
    "\n",
    "print(\"The time of execution of above program is :\",\n",
    "      (end-start) * 10**3, \"ms\")"
   ]
  },
  {
   "cell_type": "code",
   "execution_count": 14,
   "metadata": {},
   "outputs": [
    {
     "name": "stdout",
     "output_type": "stream",
     "text": [
      "4\n",
      "The time of execution of above program is : 0.03814697265625 ms\n"
     ]
    }
   ],
   "source": [
    "l=[1,2,3,4,5,6,7]\n",
    "#time module import\n",
    "import time\n",
    "#starting to record time\n",
    "start = time.time()\n",
    "countsort(l)\n",
    "end = time.time()\n",
    "\n",
    "print(\"The time of execution of above program is :\",\n",
    "      (end-start) * 10**3, \"ms\")"
   ]
  },
  {
   "cell_type": "code",
   "execution_count": 15,
   "metadata": {},
   "outputs": [
    {
     "name": "stdout",
     "output_type": "stream",
     "text": [
      "4.0\n",
      "The time of execution of above program is : 0.7729530334472656 ms\n"
     ]
    }
   ],
   "source": [
    "l=[1,2,3,4,5,6,7]\n",
    "#time module import\n",
    "import time\n",
    "#starting to record time\n",
    "start = time.time()\n",
    "print(median_np(l))\n",
    "end = time.time()\n",
    "\n",
    "print(\"The time of execution of above program is :\",\n",
    "      (end-start) * 10**3, \"ms\")"
   ]
  },
  {
   "attachments": {},
   "cell_type": "markdown",
   "metadata": {},
   "source": [
    "<h1>Question4</h1>"
   ]
  },
  {
   "attachments": {},
   "cell_type": "markdown",
   "metadata": {},
   "source": [
    "$$\n",
    "\\begin{gathered}\n",
    "x^2 y+y^3 \\sin x \\\\\n",
    "\\left.\\frac{\\partial\\left(x^2 y\\right.}{\\partial x}+y^3 \\sin x\\right) \\\\\n",
    "=2 x y+ y^3 \\cos x\n",
    "\\end{gathered}\n",
    "$$\n"
   ]
  },
  {
   "attachments": {},
   "cell_type": "markdown",
   "metadata": {},
   "source": [
    "<h1>Question 5</h1>"
   ]
  },
  {
   "cell_type": "code",
   "execution_count": 16,
   "metadata": {},
   "outputs": [
    {
     "ename": "ImportError",
     "evalue": "cannot import name 'cusolver' from 'jaxlib' (/opt/homebrew/lib/python3.9/site-packages/jaxlib/__init__.py)",
     "output_type": "error",
     "traceback": [
      "\u001b[0;31m---------------------------------------------------------------------------\u001b[0m",
      "\u001b[0;31mImportError\u001b[0m                               Traceback (most recent call last)",
      "\u001b[1;32m/Users/harshitaramchandani/Documents/try/20110074.ipynb Cell 21\u001b[0m in \u001b[0;36m<cell line: 1>\u001b[0;34m()\u001b[0m\n\u001b[0;32m----> <a href='vscode-notebook-cell:/Users/harshitaramchandani/Documents/try/20110074.ipynb#X33sZmlsZQ%3D%3D?line=0'>1</a>\u001b[0m \u001b[39mimport\u001b[39;00m \u001b[39mjax\u001b[39;00m\u001b[39m.\u001b[39;00m\u001b[39mnumpy\u001b[39;00m \u001b[39mas\u001b[39;00m \u001b[39mjnp\u001b[39;00m\n\u001b[1;32m      <a href='vscode-notebook-cell:/Users/harshitaramchandani/Documents/try/20110074.ipynb#X33sZmlsZQ%3D%3D?line=1'>2</a>\u001b[0m \u001b[39m#grad function to claculate gradient\u001b[39;00m\n\u001b[1;32m      <a href='vscode-notebook-cell:/Users/harshitaramchandani/Documents/try/20110074.ipynb#X33sZmlsZQ%3D%3D?line=2'>3</a>\u001b[0m \u001b[39mfrom\u001b[39;00m \u001b[39mjax\u001b[39;00m \u001b[39mimport\u001b[39;00m grad\n",
      "File \u001b[0;32m/opt/homebrew/lib/python3.9/site-packages/jax/__init__.py:22\u001b[0m, in \u001b[0;36m<module>\u001b[0;34m\u001b[0m\n\u001b[1;32m     20\u001b[0m \u001b[39m# flake8: noqa: F401\u001b[39;00m\n\u001b[1;32m     21\u001b[0m \u001b[39mfrom\u001b[39;00m \u001b[39m.\u001b[39;00m\u001b[39mconfig\u001b[39;00m \u001b[39mimport\u001b[39;00m config\n\u001b[0;32m---> 22\u001b[0m \u001b[39mfrom\u001b[39;00m \u001b[39m.\u001b[39;00m\u001b[39mapi\u001b[39;00m \u001b[39mimport\u001b[39;00m (\n\u001b[1;32m     23\u001b[0m   ad,  \u001b[39m# TODO(phawkins): update users to avoid this.\u001b[39;00m\n\u001b[1;32m     24\u001b[0m   argnums_partial,  \u001b[39m# TODO(phawkins): update Haiku to not use this.\u001b[39;00m\n\u001b[1;32m     25\u001b[0m   checkpoint,\n\u001b[1;32m     26\u001b[0m   curry,  \u001b[39m# TODO(phawkins): update users to avoid this.\u001b[39;00m\n\u001b[1;32m     27\u001b[0m   custom_ivjp,\n\u001b[1;32m     28\u001b[0m   custom_gradient,\n\u001b[1;32m     29\u001b[0m   custom_jvp,\n\u001b[1;32m     30\u001b[0m   custom_vjp,\n\u001b[1;32m     31\u001b[0m   custom_transforms,\n\u001b[1;32m     32\u001b[0m   defjvp,\n\u001b[1;32m     33\u001b[0m   defjvp_all,\n\u001b[1;32m     34\u001b[0m   defvjp,\n\u001b[1;32m     35\u001b[0m   defvjp_all,\n\u001b[1;32m     36\u001b[0m   device_count,\n\u001b[1;32m     37\u001b[0m   device_get,\n\u001b[1;32m     38\u001b[0m   device_put,\n\u001b[1;32m     39\u001b[0m   device_put_sharded,\n\u001b[1;32m     40\u001b[0m   device_put_replicated,\n\u001b[1;32m     41\u001b[0m   devices,\n\u001b[1;32m     42\u001b[0m   disable_jit,\n\u001b[1;32m     43\u001b[0m   eval_shape,\n\u001b[1;32m     44\u001b[0m   flatten_fun_nokwargs,  \u001b[39m# TODO(phawkins): update users to avoid this.\u001b[39;00m\n\u001b[1;32m     45\u001b[0m   float0,\n\u001b[1;32m     46\u001b[0m   grad,\n\u001b[1;32m     47\u001b[0m   hessian,\n\u001b[1;32m     48\u001b[0m   host_count,\n\u001b[1;32m     49\u001b[0m   host_id,\n\u001b[1;32m     50\u001b[0m   host_ids,\n\u001b[1;32m     51\u001b[0m   invertible,\n\u001b[1;32m     52\u001b[0m   jacobian,\n\u001b[1;32m     53\u001b[0m   jacfwd,\n\u001b[1;32m     54\u001b[0m   jacrev,\n\u001b[1;32m     55\u001b[0m   jit,\n\u001b[1;32m     56\u001b[0m   jvp,\n\u001b[1;32m     57\u001b[0m   local_device_count,\n\u001b[1;32m     58\u001b[0m   local_devices,\n\u001b[1;32m     59\u001b[0m   linearize,\n\u001b[1;32m     60\u001b[0m   linear_transpose,\n\u001b[1;32m     61\u001b[0m   make_jaxpr,\n\u001b[1;32m     62\u001b[0m   mask,\n\u001b[1;32m     63\u001b[0m   named_call,\n\u001b[1;32m     64\u001b[0m   partial,  \u001b[39m# TODO(phawkins): update callers to use functools.partial.\u001b[39;00m\n\u001b[1;32m     65\u001b[0m   pmap,\n\u001b[1;32m     66\u001b[0m   pxla,  \u001b[39m# TODO(phawkins): update users to avoid this.\u001b[39;00m\n\u001b[1;32m     67\u001b[0m   remat,\n\u001b[1;32m     68\u001b[0m   shapecheck,\n\u001b[1;32m     69\u001b[0m   ShapedArray,\n\u001b[1;32m     70\u001b[0m   ShapeDtypeStruct,\n\u001b[1;32m     71\u001b[0m   soft_pmap,\n\u001b[1;32m     72\u001b[0m   \u001b[39m# TODO(phawkins): hide tree* functions from jax, update callers to use\u001b[39;00m\n\u001b[1;32m     73\u001b[0m   \u001b[39m# jax.tree_util.\u001b[39;00m\n\u001b[1;32m     74\u001b[0m   treedef_is_leaf,\n\u001b[1;32m     75\u001b[0m   tree_flatten,\n\u001b[1;32m     76\u001b[0m   tree_leaves,\n\u001b[1;32m     77\u001b[0m   tree_map,\n\u001b[1;32m     78\u001b[0m   tree_multimap,\n\u001b[1;32m     79\u001b[0m   tree_structure,\n\u001b[1;32m     80\u001b[0m   tree_transpose,\n\u001b[1;32m     81\u001b[0m   tree_unflatten,\n\u001b[1;32m     82\u001b[0m   value_and_grad,\n\u001b[1;32m     83\u001b[0m   vjp,\n\u001b[1;32m     84\u001b[0m   vmap,\n\u001b[1;32m     85\u001b[0m   xla,  \u001b[39m# TODO(phawkins): update users to avoid this.\u001b[39;00m\n\u001b[1;32m     86\u001b[0m   xla_computation,\n\u001b[1;32m     87\u001b[0m )\n\u001b[1;32m     88\u001b[0m \u001b[39mfrom\u001b[39;00m \u001b[39m.\u001b[39;00m\u001b[39mversion\u001b[39;00m \u001b[39mimport\u001b[39;00m __version__\n\u001b[1;32m     90\u001b[0m \u001b[39m# These submodules are separate because they are in an import cycle with\u001b[39;00m\n\u001b[1;32m     91\u001b[0m \u001b[39m# jax and rely on the names imported above.\u001b[39;00m\n",
      "File \u001b[0;32m/opt/homebrew/lib/python3.9/site-packages/jax/api.py:37\u001b[0m, in \u001b[0;36m<module>\u001b[0;34m\u001b[0m\n\u001b[1;32m     34\u001b[0m \u001b[39mimport\u001b[39;00m \u001b[39mnumpy\u001b[39;00m \u001b[39mas\u001b[39;00m \u001b[39mnp\u001b[39;00m\n\u001b[1;32m     35\u001b[0m \u001b[39mfrom\u001b[39;00m \u001b[39mcontextlib\u001b[39;00m \u001b[39mimport\u001b[39;00m contextmanager, ExitStack\n\u001b[0;32m---> 37\u001b[0m \u001b[39mfrom\u001b[39;00m \u001b[39m.\u001b[39;00m \u001b[39mimport\u001b[39;00m core\n\u001b[1;32m     38\u001b[0m \u001b[39mfrom\u001b[39;00m \u001b[39m.\u001b[39;00m \u001b[39mimport\u001b[39;00m lib\n\u001b[1;32m     39\u001b[0m \u001b[39mfrom\u001b[39;00m \u001b[39m.\u001b[39;00m \u001b[39mimport\u001b[39;00m linear_util \u001b[39mas\u001b[39;00m lu\n",
      "File \u001b[0;32m/opt/homebrew/lib/python3.9/site-packages/jax/core.py:31\u001b[0m, in \u001b[0;36m<module>\u001b[0;34m\u001b[0m\n\u001b[1;32m     25\u001b[0m \u001b[39mfrom\u001b[39;00m \u001b[39mtyping\u001b[39;00m \u001b[39mimport\u001b[39;00m (Any, Callable, ClassVar, Dict, Generator,\n\u001b[1;32m     26\u001b[0m                     Iterator, List, NamedTuple, Optional, Sequence, Set, Tuple,\n\u001b[1;32m     27\u001b[0m                     Type, Union, cast, Iterable, Hashable)\n\u001b[1;32m     29\u001b[0m \u001b[39mimport\u001b[39;00m \u001b[39mnumpy\u001b[39;00m \u001b[39mas\u001b[39;00m \u001b[39mnp\u001b[39;00m\n\u001b[0;32m---> 31\u001b[0m \u001b[39mfrom\u001b[39;00m \u001b[39m.\u001b[39;00m \u001b[39mimport\u001b[39;00m dtypes\n\u001b[1;32m     32\u001b[0m \u001b[39mfrom\u001b[39;00m \u001b[39m.\u001b[39;00m\u001b[39mconfig\u001b[39;00m \u001b[39mimport\u001b[39;00m FLAGS, config\n\u001b[1;32m     33\u001b[0m \u001b[39mfrom\u001b[39;00m \u001b[39m.\u001b[39;00m \u001b[39mimport\u001b[39;00m linear_util \u001b[39mas\u001b[39;00m lu\n",
      "File \u001b[0;32m/opt/homebrew/lib/python3.9/site-packages/jax/dtypes.py:31\u001b[0m, in \u001b[0;36m<module>\u001b[0;34m\u001b[0m\n\u001b[1;32m     29\u001b[0m \u001b[39mfrom\u001b[39;00m \u001b[39m.\u001b[39;00m \u001b[39mimport\u001b[39;00m util\n\u001b[1;32m     30\u001b[0m \u001b[39mfrom\u001b[39;00m \u001b[39m.\u001b[39;00m\u001b[39mconfig\u001b[39;00m \u001b[39mimport\u001b[39;00m flags\n\u001b[0;32m---> 31\u001b[0m \u001b[39mfrom\u001b[39;00m \u001b[39m.\u001b[39;00m\u001b[39mlib\u001b[39;00m \u001b[39mimport\u001b[39;00m xla_client\n\u001b[1;32m     33\u001b[0m \u001b[39mfrom\u001b[39;00m \u001b[39m.\u001b[39;00m\u001b[39m_src\u001b[39;00m \u001b[39mimport\u001b[39;00m traceback_util\n\u001b[1;32m     34\u001b[0m traceback_util\u001b[39m.\u001b[39mregister_exclusion(\u001b[39m__file__\u001b[39m)\n",
      "File \u001b[0;32m/opt/homebrew/lib/python3.9/site-packages/jax/lib/__init__.py:60\u001b[0m, in \u001b[0;36m<module>\u001b[0;34m\u001b[0m\n\u001b[1;32m     58\u001b[0m   pytree \u001b[39m=\u001b[39m xla_client\u001b[39m.\u001b[39m_xla\u001b[39m.\u001b[39mpytree\n\u001b[1;32m     59\u001b[0m   jax_jit \u001b[39m=\u001b[39m xla_client\u001b[39m.\u001b[39m_xla\u001b[39m.\u001b[39mjax_jit\n\u001b[0;32m---> 60\u001b[0m \u001b[39mfrom\u001b[39;00m \u001b[39mjaxlib\u001b[39;00m \u001b[39mimport\u001b[39;00m cusolver\n\u001b[1;32m     61\u001b[0m \u001b[39mtry\u001b[39;00m:\n\u001b[1;32m     62\u001b[0m   \u001b[39mfrom\u001b[39;00m \u001b[39mjaxlib\u001b[39;00m \u001b[39mimport\u001b[39;00m cuda_prng\n",
      "\u001b[0;31mImportError\u001b[0m: cannot import name 'cusolver' from 'jaxlib' (/opt/homebrew/lib/python3.9/site-packages/jaxlib/__init__.py)"
     ]
    }
   ],
   "source": [
    "import jax.numpy as jnp\n",
    "#grad function to claculate gradient\n",
    "from jax import grad\n",
    "# while running on my system it gave an error \"ImportError: cannot \n",
    "# import name 'cusolver' from 'jaxlib' (/opt/homebrew/lib/python3.9/site-packages/jaxlib/__init__.py)\"\n",
    "# there was an issue of system compatibility and different versions of jax"
   ]
  },
  {
   "cell_type": "code",
   "execution_count": null,
   "metadata": {},
   "outputs": [
    {
     "ename": "NameError",
     "evalue": "name 'grad' is not defined",
     "output_type": "error",
     "traceback": [
      "\u001b[0;31m---------------------------------------------------------------------------\u001b[0m\n",
      "\u001b[0;31mNameError\u001b[0m                                 Traceback (most recent call last)\n",
      "\u001b[1;32m/Users/harshitaramchandani/Documents/try/question_4.ipynb Cell 3\u001b[0m in \u001b[0;36m<cell line: 5>\u001b[0;34m()\u001b[0m\n",
      "\u001b[1;32m      <a href='vscode-notebook-cell:/Users/harshitaramchandani/Documents/try/question_4.ipynb#W5sZmlsZQ%3D%3D?line=1'>2</a>\u001b[0m   \u001b[39mreturn\u001b[39;00m x \u001b[39m*\u001b[39m\u001b[39m*\u001b[39m \u001b[39m2\u001b[39m \u001b[39m*\u001b[39m y \u001b[39m+\u001b[39m y \u001b[39m*\u001b[39m\u001b[39m*\u001b[39m \u001b[39m3\u001b[39m \u001b[39m*\u001b[39m jnp\u001b[39m.\u001b[39msin(x)\n",
      "\u001b[1;32m      <a href='vscode-notebook-cell:/Users/harshitaramchandani/Documents/try/question_4.ipynb#W5sZmlsZQ%3D%3D?line=3'>4</a>\u001b[0m \u001b[39m# Compute the gradient of f with respect to x and y\u001b[39;00m\n",
      "\u001b[0;32m----> <a href='vscode-notebook-cell:/Users/harshitaramchandani/Documents/try/question_4.ipynb#W5sZmlsZQ%3D%3D?line=4'>5</a>\u001b[0m dfdx, dfdy \u001b[39m=\u001b[39m grad(f)(x, y)\n",
      "\n",
      "\u001b[0;31mNameError\u001b[0m: name 'grad' is not defined"
     ]
    }
   ],
   "source": [
    "def f(x, y):\n",
    "  return x ** 2 * y + y ** 3 * jnp.sin(x)\n",
    "\n",
    "# Compute the gradient of f with respect to x and y\n",
    "dfdx, dfdy = grad(f)(x, y)\n"
   ]
  },
  {
   "cell_type": "code",
   "execution_count": null,
   "metadata": {},
   "outputs": [],
   "source": [
    "# Evaluate the gradient at x=1 and y=2\n",
    "x_val = 1\n",
    "y_val = 2\n",
    "grad_at_xy = dfdx(x_val, y_val), dfdy(x_val, y_val)\n",
    "\n",
    "print(grad_at_xy)"
   ]
  },
  {
   "attachments": {},
   "cell_type": "markdown",
   "metadata": {},
   "source": [
    "<h1>Question 6</h1>"
   ]
  },
  {
   "cell_type": "code",
   "execution_count": null,
   "metadata": {},
   "outputs": [
    {
     "name": "stdout",
     "output_type": "stream",
     "text": [
      "8.32241844694512\n"
     ]
    }
   ],
   "source": [
    "from sympy import symbols, diff, sin as symbolic_sin\n",
    "\n",
    "def f(x, y):\n",
    "  return x ** 2 * y + y ** 3 * symbolic_sin(x)\n",
    "\n",
    "# Define x and y as symbolic variables\n",
    "x, y = symbols('x y')\n",
    "xcoordinate= 1\n",
    "ycoordinate= 2\n",
    "\n",
    "# Compute the partial derivative of f with respect to x\n",
    "dfdx = diff(f(x, y), x)\n",
    "\n",
    "# Evaluate the partial derivative at x=1 and y=2\n",
    "dfdx_at_xy = dfdx.evalf(subs={x: xcoordinate, y: ycoordinate})\n",
    "\n",
    "print(dfdx_at_xy) "
   ]
  },
  {
   "attachments": {},
   "cell_type": "markdown",
   "metadata": {},
   "source": [
    "Here x and y are in radians"
   ]
  },
  {
   "attachments": {},
   "cell_type": "markdown",
   "metadata": {},
   "source": []
  },
  {
   "attachments": {},
   "cell_type": "markdown",
   "metadata": {},
   "source": [
    "<h1>Question 7</h1>"
   ]
  },
  {
   "cell_type": "code",
   "execution_count": null,
   "metadata": {},
   "outputs": [],
   "source": [
    "#all the values for all the students are kept same\n",
    "student_dict = {\n",
    "  2022: {\n",
    "    \"Branch 1\": {\n",
    "      1: {\"Name\": \"N\", \"Marks\": {\"Maths\": 100, \"English\": 70}},\n",
    "      2: {\"Name\": \"N\", \"Marks\": {\"Maths\": 100, \"English\": 70}},\n",
    "    },\n",
    "    \"Branch 2\": {\n",
    "      1: {\"Name\": \"N\", \"Marks\": {\"Maths\": 100, \"English\": 70}},\n",
    "      2: {\"Name\": \"N\", \"Marks\": {\"Maths\": 100, \"English\": 70}},\n",
    "    },\n",
    "  },\n",
    "  2023: {\n",
    "    \"Branch 1\": {\n",
    "      1: {\"Name\": \"N\", \"Marks\": {\"Maths\": 100, \"English\": 70}},\n",
    "      2: {\"Name\": \"N\", \"Marks\": {\"Maths\": 100, \"English\": 70}},\n",
    "    },\n",
    "    \"Branch 2\": {\n",
    "      1: {\"Name\": \"N\", \"Marks\": {\"Maths\": 100, \"English\": 70}},\n",
    "      2: {\"Name\": \"N\", \"Marks\": {\"Maths\": 100, \"English\": 70}},\n",
    "    },\n",
    "  },\n",
    "  2024: {\n",
    "    \"Branch 1\": {\n",
    "      1: {\"Name\": \"N\", \"Marks\": {\"Maths\": 100, \"English\": 70}},\n",
    "      2: {\"Name\": \"N\", \"Marks\": {\"Maths\": 100, \"English\": 70}},\n",
    "    },\n",
    "    \"Branch 2\": {\n",
    "      1: {\"Name\": \"N\", \"Marks\": {\"Maths\": 100, \"English\": 70}},\n",
    "      2: {\"Name\": \"N\", \"Marks\": {\"Maths\": 100, \"English\": 70}},\n",
    "    },\n",
    "  },\n",
    "  2025: {\n",
    "    \"Branch 1\": {\n",
    "     1: {\"Name\": \"N\", \"Marks\": {\"Maths\": 100, \"English\": 70}},\n",
    "      2: {\"Name\": \"N\", \"Marks\": {\"Maths\": 100, \"English\": 70}},\n",
    "    },\n",
    "    \"Branch 2\": {\n",
    "      1: {\"Name\": \"N\", \"Marks\": {\"Maths\": 100, \"English\": 70}},\n",
    "      2: {\"Name\": \"N\", \"Marks\": {\"Maths\": 100, \"English\": 70}},\n",
    "    },\n",
    "  },\n",
    "}\n",
    "\n"
   ]
  },
  {
   "cell_type": "code",
   "execution_count": null,
   "metadata": {},
   "outputs": [
    {
     "name": "stdout",
     "output_type": "stream",
     "text": [
      "{2022: {'Branch 1': {1: {'Name': 'N', 'Marks': {'Maths': 100, 'English': 70}}, 2: {'Name': 'N', 'Marks': {'Maths': 100, 'English': 70}}}, 'Branch 2': {1: {'Name': 'N', 'Marks': {'Maths': 100, 'English': 70}}, 2: {'Name': 'N', 'Marks': {'Maths': 100, 'English': 70}}}}, 2023: {'Branch 1': {1: {'Name': 'N', 'Marks': {'Maths': 100, 'English': 70}}, 2: {'Name': 'N', 'Marks': {'Maths': 100, 'English': 70}}}, 'Branch 2': {1: {'Name': 'N', 'Marks': {'Maths': 100, 'English': 70}}, 2: {'Name': 'N', 'Marks': {'Maths': 100, 'English': 70}}}}, 2024: {'Branch 1': {1: {'Name': 'N', 'Marks': {'Maths': 100, 'English': 70}}, 2: {'Name': 'N', 'Marks': {'Maths': 100, 'English': 70}}}, 'Branch 2': {1: {'Name': 'N', 'Marks': {'Maths': 100, 'English': 70}}, 2: {'Name': 'N', 'Marks': {'Maths': 100, 'English': 70}}}}, 2025: {'Branch 1': {1: {'Name': 'N', 'Marks': {'Maths': 100, 'English': 70}}, 2: {'Name': 'N', 'Marks': {'Maths': 100, 'English': 70}}}, 'Branch 2': {1: {'Name': 'N', 'Marks': {'Maths': 100, 'English': 70}}, 2: {'Name': 'N', 'Marks': {'Maths': 100, 'English': 70}}}}}\n"
     ]
    }
   ],
   "source": [
    "#printing the dictionary\n",
    "print(student_dict)"
   ]
  },
  {
   "attachments": {},
   "cell_type": "markdown",
   "metadata": {},
   "source": [
    "<h1>Question 8</h1>"
   ]
  },
  {
   "cell_type": "code",
   "execution_count": null,
   "metadata": {},
   "outputs": [],
   "source": [
    "class Student_dict:\n",
    "  def __init__(self, roll_number, name, marks):\n",
    "    self.roll_number = roll_number\n",
    "    self.name = name\n",
    "    self.marks = marks\n",
    "\n",
    "class Branch:\n",
    "  def __init__(self, students):\n",
    "    self.students = students\n",
    "\n",
    "class Year:\n",
    "  def __init__(self, branches):\n",
    "    self.branches = branches\n",
    "\n",
    "# Create student objects (just a test code threfore the values of all the students have been kept same)\n",
    "student1 = Student_dict(1, \"N\", {\"Maths\": 100, \"English\": 70})\n",
    "student2 = Student_dict(2, \"N\", {\"Maths\": 100, \"English\": 70})\n",
    "student3 = Student_dict(1, \"N\", {\"Maths\": 100, \"English\": 70})\n",
    "student4 = Student_dict(2, \"N\", {\"Maths\": 100, \"English\": 70})\n",
    "student5 = Student_dict(1, \"N\", {\"Maths\": 100, \"English\": 70})\n",
    "student6 = Student_dict(2, \"N\", {\"Maths\": 100, \"English\": 70})\n",
    "student7 = Student_dict(1, \"N\", {\"Maths\": 100, \"English\": 70})\n",
    "student8 = Student_dict(2, \"T\", {\"Maths\": 100, \"English\": 70})\n",
    "student9 = Student_dict(1, \"N\", {\"Maths\": 100, \"English\": 70})\n",
    "student10 = Student_dict(2, \"N\", {\"Maths\": 100, \"English\": 70})\n",
    "student11 = Student_dict(1, \"N\", {\"Maths\": 100, \"English\": 70})\n",
    "student12 = Student_dict(2, \"N\", {\"Maths\": 100, \"English\": 70})\n",
    "student13 = Student_dict(1, \"N\", {\"Maths\": 100, \"English\": 70})\n",
    "student14 = Student_dict(2, \"N\", {\"Maths\": 100, \"English\": 70})\n",
    "\n",
    "# Create branch objects\n",
    "branch1_2022 = Branch([student1, student2])\n",
    "branch2_2022 = Branch([student3, student4])\n",
    "branch1_2023 = Branch([student5, student6])\n",
    "branch2_2023 = Branch([student7, student8])\n",
    "branch1_2024 = Branch([student9, student10])\n",
    "branch2_2024 = Branch([student11, student12])\n",
    "branch1_2025 = Branch([student9, student10])\n",
    "branch2_2025 = Branch([student13, student14])\n",
    "\n",
    "\n",
    "# Create year objects\n",
    "year1 = Year([branch1_2022, branch2_2022])\n",
    "year2 = Year([branch1_2023, branch2_2023])\n",
    "year3 = Year([branch1_2024, branch2_2024])\n",
    "year4 = Year([branch1_2025, branch2_2025])\n",
    "\n",
    "# Overall database which is a list of year objects\n",
    "database = [year1, year2, year3]\n"
   ]
  },
  {
   "attachments": {},
   "cell_type": "markdown",
   "metadata": {},
   "source": [
    "<h1>Question9</h1>"
   ]
  },
  {
   "cell_type": "code",
   "execution_count": null,
   "metadata": {},
   "outputs": [],
   "source": [
    "import numpy as np\n",
    "import matplotlib.pyplot as plt\n",
    "\n",
    "x = np.arange(0.5, 100.0, 0.5)"
   ]
  },
  {
   "cell_type": "code",
   "execution_count": null,
   "metadata": {},
   "outputs": [],
   "source": [
    "y1=x\n",
    "y2=x**2\n",
    "y3=(x**3)/100\n",
    "y4 = np.sin(x)\n",
    "y5=(np.sin(x))/x\n",
    "y6 = np.log(x)\n",
    "y7=np.exp(x)"
   ]
  },
  {
   "cell_type": "code",
   "execution_count": null,
   "metadata": {},
   "outputs": [
    {
     "data": {
      "image/png": "[encoded data removed]",
      "text/plain": [
       "<Figure size 432x288 with 1 Axes>"
      ]
     },
     "metadata": {},
     "output_type": "display_data"
    }
   ],
   "source": [
    "plt.plot(x, y1, label='x')\n",
    "plt.xlabel('x')\n",
    "plt.ylabel('y')\n",
    "plt.title('Plot of y=x')\n",
    "plt.legend()\n",
    "plt.show()"
   ]
  },
  {
   "cell_type": "code",
   "execution_count": null,
   "metadata": {},
   "outputs": [
    {
     "data": {
      "image/png": "[encoded data removed]",
      "text/plain": [
       "<Figure size 432x288 with 1 Axes>"
      ]
     },
     "metadata": {},
     "output_type": "display_data"
    }
   ],
   "source": [
    "plt.plot(x, y2, label='x^2')\n",
    "plt.xlabel('x')\n",
    "plt.ylabel('y')\n",
    "plt.title('Plot of y=x^2')\n",
    "plt.legend()\n",
    "plt.show()"
   ]
  },
  {
   "cell_type": "code",
   "execution_count": null,
   "metadata": {},
   "outputs": [
    {
     "data": {
      "image/png": "[encoded data removed]",
      "text/plain": [
       "<Figure size 432x288 with 1 Axes>"
      ]
     },
     "metadata": {},
     "output_type": "display_data"
    }
   ],
   "source": [
    "plt.plot(x, y3, label='x^3/100')\n",
    "plt.xlabel('x')\n",
    "plt.ylabel('y')\n",
    "plt.title('Plot of y=x^3/100')\n",
    "plt.legend()\n",
    "plt.show()"
   ]
  },
  {
   "cell_type": "code",
   "execution_count": null,
   "metadata": {},
   "outputs": [
    {
     "data": {
      "image/png": "[encoded data removed]",
      "text/plain": [
       "<Figure size 432x288 with 1 Axes>"
      ]
     },
     "metadata": {},
     "output_type": "display_data"
    }
   ],
   "source": [
    "plt.plot(x, y4, label='sin(x)')\n",
    "plt.xlabel('x')\n",
    "plt.ylabel('y')\n",
    "plt.title('Plot of y=sin(x)')\n",
    "plt.legend()\n",
    "plt.show()"
   ]
  },
  {
   "cell_type": "code",
   "execution_count": null,
   "metadata": {},
   "outputs": [
    {
     "data": {
      "image/png": "[encoded data removed]",
      "text/plain": [
       "<Figure size 432x288 with 1 Axes>"
      ]
     },
     "metadata": {},
     "output_type": "display_data"
    }
   ],
   "source": [
    "plt.plot(x, y5, label='sin(x)/x')\n",
    "plt.xlabel('x')\n",
    "plt.ylabel('y')\n",
    "plt.title('Plot of y=sin(x)/x')\n",
    "plt.legend()\n",
    "plt.show()"
   ]
  },
  {
   "cell_type": "code",
   "execution_count": null,
   "metadata": {},
   "outputs": [
    {
     "data": {
      "image/png": "[encoded data removed]",
      "text/plain": [
       "<Figure size 432x288 with 1 Axes>"
      ]
     },
     "metadata": {},
     "output_type": "display_data"
    }
   ],
   "source": [
    "plt.plot(x, y6, label='log(x)')\n",
    "plt.xlabel('x')\n",
    "plt.ylabel('y')\n",
    "plt.title('Plot of y=log(x)')\n",
    "plt.legend()\n",
    "plt.show()"
   ]
  },
  {
   "cell_type": "code",
   "execution_count": null,
   "metadata": {},
   "outputs": [
    {
     "data": {
      "image/png": "[encoded data removed]",
      "text/plain": [
       "<Figure size 432x288 with 1 Axes>"
      ]
     },
     "metadata": {},
     "output_type": "display_data"
    }
   ],
   "source": [
    "plt.plot(x, y7, label='e^x')\n",
    "plt.xlabel('x')\n",
    "plt.ylabel('y')\n",
    "plt.title('Plot of y=e^x')\n",
    "plt.legend()\n",
    "plt.show()"
   ]
  },
  {
   "attachments": {},
   "cell_type": "markdown",
   "metadata": {},
   "source": [
    "<h1>Question 10</h1>"
   ]
  },
  {
   "cell_type": "code",
   "execution_count": null,
   "metadata": {},
   "outputs": [
    {
     "data": {
      "text/html": [
       "<div>\n",
       "<style scoped>\n",
       "    .dataframe tbody tr th:only-of-type {\n",
       "        vertical-align: middle;\n",
       "    }\n",
       "\n",
       "    .dataframe tbody tr th {\n",
       "        vertical-align: top;\n",
       "    }\n",
       "\n",
       "    .dataframe thead th {\n",
       "        text-align: right;\n",
       "    }\n",
       "</style>\n",
       "<table border=\"1\" class=\"dataframe\">\n",
       "  <thead>\n",
       "    <tr style=\"text-align: right;\">\n",
       "      <th></th>\n",
       "      <th>a</th>\n",
       "      <th>b</th>\n",
       "      <th>c</th>\n",
       "      <th>d</th>\n",
       "      <th>e</th>\n",
       "    </tr>\n",
       "  </thead>\n",
       "  <tbody>\n",
       "    <tr>\n",
       "      <th>0</th>\n",
       "      <td>1.562866</td>\n",
       "      <td>1.540430</td>\n",
       "      <td>1.002097</td>\n",
       "      <td>1.892743</td>\n",
       "      <td>1.289639</td>\n",
       "    </tr>\n",
       "    <tr>\n",
       "      <th>1</th>\n",
       "      <td>1.761717</td>\n",
       "      <td>1.404148</td>\n",
       "      <td>1.986906</td>\n",
       "      <td>1.010405</td>\n",
       "      <td>1.848670</td>\n",
       "    </tr>\n",
       "    <tr>\n",
       "      <th>2</th>\n",
       "      <td>1.222701</td>\n",
       "      <td>1.147907</td>\n",
       "      <td>1.589667</td>\n",
       "      <td>1.626879</td>\n",
       "      <td>1.146205</td>\n",
       "    </tr>\n",
       "    <tr>\n",
       "      <th>3</th>\n",
       "      <td>1.334422</td>\n",
       "      <td>1.611106</td>\n",
       "      <td>1.354063</td>\n",
       "      <td>1.648713</td>\n",
       "      <td>1.436213</td>\n",
       "    </tr>\n",
       "    <tr>\n",
       "      <th>4</th>\n",
       "      <td>1.857270</td>\n",
       "      <td>1.372319</td>\n",
       "      <td>1.201885</td>\n",
       "      <td>1.344395</td>\n",
       "      <td>1.767730</td>\n",
       "    </tr>\n",
       "    <tr>\n",
       "      <th>5</th>\n",
       "      <td>1.259130</td>\n",
       "      <td>1.215373</td>\n",
       "      <td>1.733783</td>\n",
       "      <td>1.879642</td>\n",
       "      <td>1.528853</td>\n",
       "    </tr>\n",
       "    <tr>\n",
       "      <th>6</th>\n",
       "      <td>1.268706</td>\n",
       "      <td>1.125834</td>\n",
       "      <td>1.253707</td>\n",
       "      <td>1.998959</td>\n",
       "      <td>1.842183</td>\n",
       "    </tr>\n",
       "    <tr>\n",
       "      <th>7</th>\n",
       "      <td>1.170351</td>\n",
       "      <td>1.896404</td>\n",
       "      <td>1.828639</td>\n",
       "      <td>1.172243</td>\n",
       "      <td>1.286269</td>\n",
       "    </tr>\n",
       "    <tr>\n",
       "      <th>8</th>\n",
       "      <td>1.310751</td>\n",
       "      <td>1.708936</td>\n",
       "      <td>1.130852</td>\n",
       "      <td>1.187936</td>\n",
       "      <td>1.669608</td>\n",
       "    </tr>\n",
       "    <tr>\n",
       "      <th>9</th>\n",
       "      <td>1.977075</td>\n",
       "      <td>1.753406</td>\n",
       "      <td>1.372753</td>\n",
       "      <td>1.350698</td>\n",
       "      <td>1.128289</td>\n",
       "    </tr>\n",
       "    <tr>\n",
       "      <th>10</th>\n",
       "      <td>1.759233</td>\n",
       "      <td>1.941591</td>\n",
       "      <td>1.686697</td>\n",
       "      <td>1.813059</td>\n",
       "      <td>1.429207</td>\n",
       "    </tr>\n",
       "    <tr>\n",
       "      <th>11</th>\n",
       "      <td>1.730490</td>\n",
       "      <td>1.519409</td>\n",
       "      <td>1.188241</td>\n",
       "      <td>1.794618</td>\n",
       "      <td>1.870900</td>\n",
       "    </tr>\n",
       "    <tr>\n",
       "      <th>12</th>\n",
       "      <td>1.130233</td>\n",
       "      <td>1.108500</td>\n",
       "      <td>1.305593</td>\n",
       "      <td>1.483942</td>\n",
       "      <td>1.780103</td>\n",
       "    </tr>\n",
       "    <tr>\n",
       "      <th>13</th>\n",
       "      <td>1.858939</td>\n",
       "      <td>1.857200</td>\n",
       "      <td>1.905330</td>\n",
       "      <td>1.066345</td>\n",
       "      <td>1.826778</td>\n",
       "    </tr>\n",
       "    <tr>\n",
       "      <th>14</th>\n",
       "      <td>1.995045</td>\n",
       "      <td>1.167532</td>\n",
       "      <td>1.436672</td>\n",
       "      <td>1.452714</td>\n",
       "      <td>1.093976</td>\n",
       "    </tr>\n",
       "    <tr>\n",
       "      <th>15</th>\n",
       "      <td>1.501652</td>\n",
       "      <td>1.232593</td>\n",
       "      <td>1.661525</td>\n",
       "      <td>1.345384</td>\n",
       "      <td>1.456278</td>\n",
       "    </tr>\n",
       "    <tr>\n",
       "      <th>16</th>\n",
       "      <td>1.191327</td>\n",
       "      <td>1.814711</td>\n",
       "      <td>1.463231</td>\n",
       "      <td>1.935142</td>\n",
       "      <td>1.427525</td>\n",
       "    </tr>\n",
       "    <tr>\n",
       "      <th>17</th>\n",
       "      <td>1.456440</td>\n",
       "      <td>1.796830</td>\n",
       "      <td>1.127528</td>\n",
       "      <td>1.955747</td>\n",
       "      <td>1.347086</td>\n",
       "    </tr>\n",
       "    <tr>\n",
       "      <th>18</th>\n",
       "      <td>1.168618</td>\n",
       "      <td>1.966961</td>\n",
       "      <td>1.982616</td>\n",
       "      <td>1.151999</td>\n",
       "      <td>1.423820</td>\n",
       "    </tr>\n",
       "    <tr>\n",
       "      <th>19</th>\n",
       "      <td>1.234491</td>\n",
       "      <td>1.981485</td>\n",
       "      <td>1.380547</td>\n",
       "      <td>1.767562</td>\n",
       "      <td>1.727875</td>\n",
       "    </tr>\n",
       "  </tbody>\n",
       "</table>\n",
       "</div>"
      ],
      "text/plain": [
       "           a         b         c         d         e\n",
       "0   1.562866  1.540430  1.002097  1.892743  1.289639\n",
       "1   1.761717  1.404148  1.986906  1.010405  1.848670\n",
       "2   1.222701  1.147907  1.589667  1.626879  1.146205\n",
       "3   1.334422  1.611106  1.354063  1.648713  1.436213\n",
       "4   1.857270  1.372319  1.201885  1.344395  1.767730\n",
       "5   1.259130  1.215373  1.733783  1.879642  1.528853\n",
       "6   1.268706  1.125834  1.253707  1.998959  1.842183\n",
       "7   1.170351  1.896404  1.828639  1.172243  1.286269\n",
       "8   1.310751  1.708936  1.130852  1.187936  1.669608\n",
       "9   1.977075  1.753406  1.372753  1.350698  1.128289\n",
       "10  1.759233  1.941591  1.686697  1.813059  1.429207\n",
       "11  1.730490  1.519409  1.188241  1.794618  1.870900\n",
       "12  1.130233  1.108500  1.305593  1.483942  1.780103\n",
       "13  1.858939  1.857200  1.905330  1.066345  1.826778\n",
       "14  1.995045  1.167532  1.436672  1.452714  1.093976\n",
       "15  1.501652  1.232593  1.661525  1.345384  1.456278\n",
       "16  1.191327  1.814711  1.463231  1.935142  1.427525\n",
       "17  1.456440  1.796830  1.127528  1.955747  1.347086\n",
       "18  1.168618  1.966961  1.982616  1.151999  1.423820\n",
       "19  1.234491  1.981485  1.380547  1.767562  1.727875"
      ]
     },
     "metadata": {},
     "output_type": "display_data"
    }
   ],
   "source": [
    "import numpy as np\n",
    "import pandas as pd\n",
    "df = pd.DataFrame(np.random.uniform(1, 2, (20, 5)), columns=list('abcde'))\n",
    "df"
   ]
  },
  {
   "cell_type": "code",
   "execution_count": null,
   "metadata": {},
   "outputs": [
    {
     "name": "stdout",
     "output_type": "stream",
     "text": [
      "0.32662001749185327\n",
      "a    0.298537\n",
      "b    0.314323\n",
      "c    0.301066\n",
      "d    0.326620\n",
      "e    0.258831\n",
      "dtype: float64\n",
      "d\n"
     ]
    }
   ],
   "source": [
    "print(max(df.std()))\n",
    "print(df.std())\n",
    "print(df.std().idxmax())"
   ]
  },
  {
   "attachments": {},
   "cell_type": "markdown",
   "metadata": {},
   "source": [
    "Note: this answer would be change after rerunning the program\n",
    "Column with the highest standard deviation is column b with standard deviation=0.329683"
   ]
  },
  {
   "cell_type": "code",
   "execution_count": null,
   "metadata": {},
   "outputs": [
    {
     "data": {
      "text/plain": [
       "0     1.360660\n",
       "1     1.579077\n",
       "2     1.472172\n",
       "3     1.574765\n",
       "4     1.731241\n",
       "5     1.557399\n",
       "6     1.514897\n",
       "7     1.434554\n",
       "8     1.651136\n",
       "9     1.371234\n",
       "10    1.439188\n",
       "11    1.483110\n",
       "12    1.649452\n",
       "13    1.320386\n",
       "14    1.632307\n",
       "15    1.689437\n",
       "16    1.573717\n",
       "17    1.520611\n",
       "18    1.678911\n",
       "19    1.488426\n",
       "dtype: float64"
      ]
     },
     "metadata": {},
     "output_type": "display_data"
    }
   ],
   "source": [
    "df.mean(axis = 1)  \n"
   ]
  },
  {
   "cell_type": "code",
   "execution_count": null,
   "metadata": {},
   "outputs": [
    {
     "name": "stdout",
     "output_type": "stream",
     "text": [
      "1.4796165434177595\n",
      "2\n"
     ]
    }
   ],
   "source": [
    "print(min(df.mean(axis=0)))\n",
    "print(df.mean(axis=1).idxmin())"
   ]
  },
  {
   "attachments": {},
   "cell_type": "markdown",
   "metadata": {},
   "source": [
    "In this case we have row 13 which has the lowest mean which is 1.4531807558530958."
   ]
  },
  {
   "attachments": {},
   "cell_type": "markdown",
   "metadata": {},
   "source": [
    "<h1>Question11</h1>"
   ]
  },
  {
   "cell_type": "code",
   "execution_count": null,
   "metadata": {},
   "outputs": [
    {
     "data": {
      "text/html": [
       "<div>\n",
       "<style scoped>\n",
       "    .dataframe tbody tr th:only-of-type {\n",
       "        vertical-align: middle;\n",
       "    }\n",
       "\n",
       "    .dataframe tbody tr th {\n",
       "        vertical-align: top;\n",
       "    }\n",
       "\n",
       "    .dataframe thead th {\n",
       "        text-align: right;\n",
       "    }\n",
       "</style>\n",
       "<table border=\"1\" class=\"dataframe\">\n",
       "  <thead>\n",
       "    <tr style=\"text-align: right;\">\n",
       "      <th></th>\n",
       "      <th>a</th>\n",
       "      <th>b</th>\n",
       "      <th>c</th>\n",
       "      <th>d</th>\n",
       "      <th>e</th>\n",
       "      <th>f</th>\n",
       "      <th>g</th>\n",
       "    </tr>\n",
       "  </thead>\n",
       "  <tbody>\n",
       "    <tr>\n",
       "      <th>0</th>\n",
       "      <td>1.562866</td>\n",
       "      <td>1.540430</td>\n",
       "      <td>1.002097</td>\n",
       "      <td>1.892743</td>\n",
       "      <td>1.289639</td>\n",
       "      <td>7.287775</td>\n",
       "      <td>LT8</td>\n",
       "    </tr>\n",
       "    <tr>\n",
       "      <th>1</th>\n",
       "      <td>1.761717</td>\n",
       "      <td>1.404148</td>\n",
       "      <td>1.986906</td>\n",
       "      <td>1.010405</td>\n",
       "      <td>1.848670</td>\n",
       "      <td>8.011845</td>\n",
       "      <td>GT8</td>\n",
       "    </tr>\n",
       "    <tr>\n",
       "      <th>2</th>\n",
       "      <td>1.222701</td>\n",
       "      <td>1.147907</td>\n",
       "      <td>1.589667</td>\n",
       "      <td>1.626879</td>\n",
       "      <td>1.146205</td>\n",
       "      <td>6.733360</td>\n",
       "      <td>LT8</td>\n",
       "    </tr>\n",
       "    <tr>\n",
       "      <th>3</th>\n",
       "      <td>1.334422</td>\n",
       "      <td>1.611106</td>\n",
       "      <td>1.354063</td>\n",
       "      <td>1.648713</td>\n",
       "      <td>1.436213</td>\n",
       "      <td>7.384518</td>\n",
       "      <td>LT8</td>\n",
       "    </tr>\n",
       "    <tr>\n",
       "      <th>4</th>\n",
       "      <td>1.857270</td>\n",
       "      <td>1.372319</td>\n",
       "      <td>1.201885</td>\n",
       "      <td>1.344395</td>\n",
       "      <td>1.767730</td>\n",
       "      <td>7.543600</td>\n",
       "      <td>LT8</td>\n",
       "    </tr>\n",
       "    <tr>\n",
       "      <th>5</th>\n",
       "      <td>1.259130</td>\n",
       "      <td>1.215373</td>\n",
       "      <td>1.733783</td>\n",
       "      <td>1.879642</td>\n",
       "      <td>1.528853</td>\n",
       "      <td>7.616780</td>\n",
       "      <td>LT8</td>\n",
       "    </tr>\n",
       "    <tr>\n",
       "      <th>6</th>\n",
       "      <td>1.268706</td>\n",
       "      <td>1.125834</td>\n",
       "      <td>1.253707</td>\n",
       "      <td>1.998959</td>\n",
       "      <td>1.842183</td>\n",
       "      <td>7.489390</td>\n",
       "      <td>LT8</td>\n",
       "    </tr>\n",
       "    <tr>\n",
       "      <th>7</th>\n",
       "      <td>1.170351</td>\n",
       "      <td>1.896404</td>\n",
       "      <td>1.828639</td>\n",
       "      <td>1.172243</td>\n",
       "      <td>1.286269</td>\n",
       "      <td>7.353907</td>\n",
       "      <td>LT8</td>\n",
       "    </tr>\n",
       "    <tr>\n",
       "      <th>8</th>\n",
       "      <td>1.310751</td>\n",
       "      <td>1.708936</td>\n",
       "      <td>1.130852</td>\n",
       "      <td>1.187936</td>\n",
       "      <td>1.669608</td>\n",
       "      <td>7.008083</td>\n",
       "      <td>LT8</td>\n",
       "    </tr>\n",
       "    <tr>\n",
       "      <th>9</th>\n",
       "      <td>1.977075</td>\n",
       "      <td>1.753406</td>\n",
       "      <td>1.372753</td>\n",
       "      <td>1.350698</td>\n",
       "      <td>1.128289</td>\n",
       "      <td>7.582220</td>\n",
       "      <td>LT8</td>\n",
       "    </tr>\n",
       "    <tr>\n",
       "      <th>10</th>\n",
       "      <td>1.759233</td>\n",
       "      <td>1.941591</td>\n",
       "      <td>1.686697</td>\n",
       "      <td>1.813059</td>\n",
       "      <td>1.429207</td>\n",
       "      <td>8.629787</td>\n",
       "      <td>GT8</td>\n",
       "    </tr>\n",
       "    <tr>\n",
       "      <th>11</th>\n",
       "      <td>1.730490</td>\n",
       "      <td>1.519409</td>\n",
       "      <td>1.188241</td>\n",
       "      <td>1.794618</td>\n",
       "      <td>1.870900</td>\n",
       "      <td>8.103658</td>\n",
       "      <td>GT8</td>\n",
       "    </tr>\n",
       "    <tr>\n",
       "      <th>12</th>\n",
       "      <td>1.130233</td>\n",
       "      <td>1.108500</td>\n",
       "      <td>1.305593</td>\n",
       "      <td>1.483942</td>\n",
       "      <td>1.780103</td>\n",
       "      <td>6.808371</td>\n",
       "      <td>LT8</td>\n",
       "    </tr>\n",
       "    <tr>\n",
       "      <th>13</th>\n",
       "      <td>1.858939</td>\n",
       "      <td>1.857200</td>\n",
       "      <td>1.905330</td>\n",
       "      <td>1.066345</td>\n",
       "      <td>1.826778</td>\n",
       "      <td>8.514592</td>\n",
       "      <td>GT8</td>\n",
       "    </tr>\n",
       "    <tr>\n",
       "      <th>14</th>\n",
       "      <td>1.995045</td>\n",
       "      <td>1.167532</td>\n",
       "      <td>1.436672</td>\n",
       "      <td>1.452714</td>\n",
       "      <td>1.093976</td>\n",
       "      <td>7.145940</td>\n",
       "      <td>LT8</td>\n",
       "    </tr>\n",
       "    <tr>\n",
       "      <th>15</th>\n",
       "      <td>1.501652</td>\n",
       "      <td>1.232593</td>\n",
       "      <td>1.661525</td>\n",
       "      <td>1.345384</td>\n",
       "      <td>1.456278</td>\n",
       "      <td>7.197433</td>\n",
       "      <td>LT8</td>\n",
       "    </tr>\n",
       "    <tr>\n",
       "      <th>16</th>\n",
       "      <td>1.191327</td>\n",
       "      <td>1.814711</td>\n",
       "      <td>1.463231</td>\n",
       "      <td>1.935142</td>\n",
       "      <td>1.427525</td>\n",
       "      <td>7.831936</td>\n",
       "      <td>LT8</td>\n",
       "    </tr>\n",
       "    <tr>\n",
       "      <th>17</th>\n",
       "      <td>1.456440</td>\n",
       "      <td>1.796830</td>\n",
       "      <td>1.127528</td>\n",
       "      <td>1.955747</td>\n",
       "      <td>1.347086</td>\n",
       "      <td>7.683631</td>\n",
       "      <td>LT8</td>\n",
       "    </tr>\n",
       "    <tr>\n",
       "      <th>18</th>\n",
       "      <td>1.168618</td>\n",
       "      <td>1.966961</td>\n",
       "      <td>1.982616</td>\n",
       "      <td>1.151999</td>\n",
       "      <td>1.423820</td>\n",
       "      <td>7.694013</td>\n",
       "      <td>LT8</td>\n",
       "    </tr>\n",
       "    <tr>\n",
       "      <th>19</th>\n",
       "      <td>1.234491</td>\n",
       "      <td>1.981485</td>\n",
       "      <td>1.380547</td>\n",
       "      <td>1.767562</td>\n",
       "      <td>1.727875</td>\n",
       "      <td>8.091960</td>\n",
       "      <td>GT8</td>\n",
       "    </tr>\n",
       "  </tbody>\n",
       "</table>\n",
       "</div>"
      ],
      "text/plain": [
       "           a         b         c         d         e         f    g\n",
       "0   1.562866  1.540430  1.002097  1.892743  1.289639  7.287775  LT8\n",
       "1   1.761717  1.404148  1.986906  1.010405  1.848670  8.011845  GT8\n",
       "2   1.222701  1.147907  1.589667  1.626879  1.146205  6.733360  LT8\n",
       "3   1.334422  1.611106  1.354063  1.648713  1.436213  7.384518  LT8\n",
       "4   1.857270  1.372319  1.201885  1.344395  1.767730  7.543600  LT8\n",
       "5   1.259130  1.215373  1.733783  1.879642  1.528853  7.616780  LT8\n",
       "6   1.268706  1.125834  1.253707  1.998959  1.842183  7.489390  LT8\n",
       "7   1.170351  1.896404  1.828639  1.172243  1.286269  7.353907  LT8\n",
       "8   1.310751  1.708936  1.130852  1.187936  1.669608  7.008083  LT8\n",
       "9   1.977075  1.753406  1.372753  1.350698  1.128289  7.582220  LT8\n",
       "10  1.759233  1.941591  1.686697  1.813059  1.429207  8.629787  GT8\n",
       "11  1.730490  1.519409  1.188241  1.794618  1.870900  8.103658  GT8\n",
       "12  1.130233  1.108500  1.305593  1.483942  1.780103  6.808371  LT8\n",
       "13  1.858939  1.857200  1.905330  1.066345  1.826778  8.514592  GT8\n",
       "14  1.995045  1.167532  1.436672  1.452714  1.093976  7.145940  LT8\n",
       "15  1.501652  1.232593  1.661525  1.345384  1.456278  7.197433  LT8\n",
       "16  1.191327  1.814711  1.463231  1.935142  1.427525  7.831936  LT8\n",
       "17  1.456440  1.796830  1.127528  1.955747  1.347086  7.683631  LT8\n",
       "18  1.168618  1.966961  1.982616  1.151999  1.423820  7.694013  LT8\n",
       "19  1.234491  1.981485  1.380547  1.767562  1.727875  8.091960  GT8"
      ]
     },
     "metadata": {},
     "output_type": "display_data"
    }
   ],
   "source": [
    "df['f']=df['a']+df['b']+df['c']+df['d']+df['e']\n",
    "df"
   ]
  },
  {
   "cell_type": "code",
   "execution_count": null,
   "metadata": {},
   "outputs": [
    {
     "data": {
      "text/html": [
       "<div>\n",
       "<style scoped>\n",
       "    .dataframe tbody tr th:only-of-type {\n",
       "        vertical-align: middle;\n",
       "    }\n",
       "\n",
       "    .dataframe tbody tr th {\n",
       "        vertical-align: top;\n",
       "    }\n",
       "\n",
       "    .dataframe thead th {\n",
       "        text-align: right;\n",
       "    }\n",
       "</style>\n",
       "<table border=\"1\" class=\"dataframe\">\n",
       "  <thead>\n",
       "    <tr style=\"text-align: right;\">\n",
       "      <th></th>\n",
       "      <th>a</th>\n",
       "      <th>b</th>\n",
       "      <th>c</th>\n",
       "      <th>d</th>\n",
       "      <th>e</th>\n",
       "      <th>f</th>\n",
       "      <th>g</th>\n",
       "    </tr>\n",
       "  </thead>\n",
       "  <tbody>\n",
       "    <tr>\n",
       "      <th>0</th>\n",
       "      <td>1.562866</td>\n",
       "      <td>1.540430</td>\n",
       "      <td>1.002097</td>\n",
       "      <td>1.892743</td>\n",
       "      <td>1.289639</td>\n",
       "      <td>7.287775</td>\n",
       "      <td>LT8</td>\n",
       "    </tr>\n",
       "    <tr>\n",
       "      <th>1</th>\n",
       "      <td>1.761717</td>\n",
       "      <td>1.404148</td>\n",
       "      <td>1.986906</td>\n",
       "      <td>1.010405</td>\n",
       "      <td>1.848670</td>\n",
       "      <td>8.011845</td>\n",
       "      <td>GT8</td>\n",
       "    </tr>\n",
       "    <tr>\n",
       "      <th>2</th>\n",
       "      <td>1.222701</td>\n",
       "      <td>1.147907</td>\n",
       "      <td>1.589667</td>\n",
       "      <td>1.626879</td>\n",
       "      <td>1.146205</td>\n",
       "      <td>6.733360</td>\n",
       "      <td>LT8</td>\n",
       "    </tr>\n",
       "    <tr>\n",
       "      <th>3</th>\n",
       "      <td>1.334422</td>\n",
       "      <td>1.611106</td>\n",
       "      <td>1.354063</td>\n",
       "      <td>1.648713</td>\n",
       "      <td>1.436213</td>\n",
       "      <td>7.384518</td>\n",
       "      <td>LT8</td>\n",
       "    </tr>\n",
       "    <tr>\n",
       "      <th>4</th>\n",
       "      <td>1.857270</td>\n",
       "      <td>1.372319</td>\n",
       "      <td>1.201885</td>\n",
       "      <td>1.344395</td>\n",
       "      <td>1.767730</td>\n",
       "      <td>7.543600</td>\n",
       "      <td>LT8</td>\n",
       "    </tr>\n",
       "    <tr>\n",
       "      <th>5</th>\n",
       "      <td>1.259130</td>\n",
       "      <td>1.215373</td>\n",
       "      <td>1.733783</td>\n",
       "      <td>1.879642</td>\n",
       "      <td>1.528853</td>\n",
       "      <td>7.616780</td>\n",
       "      <td>LT8</td>\n",
       "    </tr>\n",
       "    <tr>\n",
       "      <th>6</th>\n",
       "      <td>1.268706</td>\n",
       "      <td>1.125834</td>\n",
       "      <td>1.253707</td>\n",
       "      <td>1.998959</td>\n",
       "      <td>1.842183</td>\n",
       "      <td>7.489390</td>\n",
       "      <td>LT8</td>\n",
       "    </tr>\n",
       "    <tr>\n",
       "      <th>7</th>\n",
       "      <td>1.170351</td>\n",
       "      <td>1.896404</td>\n",
       "      <td>1.828639</td>\n",
       "      <td>1.172243</td>\n",
       "      <td>1.286269</td>\n",
       "      <td>7.353907</td>\n",
       "      <td>LT8</td>\n",
       "    </tr>\n",
       "    <tr>\n",
       "      <th>8</th>\n",
       "      <td>1.310751</td>\n",
       "      <td>1.708936</td>\n",
       "      <td>1.130852</td>\n",
       "      <td>1.187936</td>\n",
       "      <td>1.669608</td>\n",
       "      <td>7.008083</td>\n",
       "      <td>LT8</td>\n",
       "    </tr>\n",
       "    <tr>\n",
       "      <th>9</th>\n",
       "      <td>1.977075</td>\n",
       "      <td>1.753406</td>\n",
       "      <td>1.372753</td>\n",
       "      <td>1.350698</td>\n",
       "      <td>1.128289</td>\n",
       "      <td>7.582220</td>\n",
       "      <td>LT8</td>\n",
       "    </tr>\n",
       "    <tr>\n",
       "      <th>10</th>\n",
       "      <td>1.759233</td>\n",
       "      <td>1.941591</td>\n",
       "      <td>1.686697</td>\n",
       "      <td>1.813059</td>\n",
       "      <td>1.429207</td>\n",
       "      <td>8.629787</td>\n",
       "      <td>GT8</td>\n",
       "    </tr>\n",
       "    <tr>\n",
       "      <th>11</th>\n",
       "      <td>1.730490</td>\n",
       "      <td>1.519409</td>\n",
       "      <td>1.188241</td>\n",
       "      <td>1.794618</td>\n",
       "      <td>1.870900</td>\n",
       "      <td>8.103658</td>\n",
       "      <td>GT8</td>\n",
       "    </tr>\n",
       "    <tr>\n",
       "      <th>12</th>\n",
       "      <td>1.130233</td>\n",
       "      <td>1.108500</td>\n",
       "      <td>1.305593</td>\n",
       "      <td>1.483942</td>\n",
       "      <td>1.780103</td>\n",
       "      <td>6.808371</td>\n",
       "      <td>LT8</td>\n",
       "    </tr>\n",
       "    <tr>\n",
       "      <th>13</th>\n",
       "      <td>1.858939</td>\n",
       "      <td>1.857200</td>\n",
       "      <td>1.905330</td>\n",
       "      <td>1.066345</td>\n",
       "      <td>1.826778</td>\n",
       "      <td>8.514592</td>\n",
       "      <td>GT8</td>\n",
       "    </tr>\n",
       "    <tr>\n",
       "      <th>14</th>\n",
       "      <td>1.995045</td>\n",
       "      <td>1.167532</td>\n",
       "      <td>1.436672</td>\n",
       "      <td>1.452714</td>\n",
       "      <td>1.093976</td>\n",
       "      <td>7.145940</td>\n",
       "      <td>LT8</td>\n",
       "    </tr>\n",
       "    <tr>\n",
       "      <th>15</th>\n",
       "      <td>1.501652</td>\n",
       "      <td>1.232593</td>\n",
       "      <td>1.661525</td>\n",
       "      <td>1.345384</td>\n",
       "      <td>1.456278</td>\n",
       "      <td>7.197433</td>\n",
       "      <td>LT8</td>\n",
       "    </tr>\n",
       "    <tr>\n",
       "      <th>16</th>\n",
       "      <td>1.191327</td>\n",
       "      <td>1.814711</td>\n",
       "      <td>1.463231</td>\n",
       "      <td>1.935142</td>\n",
       "      <td>1.427525</td>\n",
       "      <td>7.831936</td>\n",
       "      <td>LT8</td>\n",
       "    </tr>\n",
       "    <tr>\n",
       "      <th>17</th>\n",
       "      <td>1.456440</td>\n",
       "      <td>1.796830</td>\n",
       "      <td>1.127528</td>\n",
       "      <td>1.955747</td>\n",
       "      <td>1.347086</td>\n",
       "      <td>7.683631</td>\n",
       "      <td>LT8</td>\n",
       "    </tr>\n",
       "    <tr>\n",
       "      <th>18</th>\n",
       "      <td>1.168618</td>\n",
       "      <td>1.966961</td>\n",
       "      <td>1.982616</td>\n",
       "      <td>1.151999</td>\n",
       "      <td>1.423820</td>\n",
       "      <td>7.694013</td>\n",
       "      <td>LT8</td>\n",
       "    </tr>\n",
       "    <tr>\n",
       "      <th>19</th>\n",
       "      <td>1.234491</td>\n",
       "      <td>1.981485</td>\n",
       "      <td>1.380547</td>\n",
       "      <td>1.767562</td>\n",
       "      <td>1.727875</td>\n",
       "      <td>8.091960</td>\n",
       "      <td>GT8</td>\n",
       "    </tr>\n",
       "  </tbody>\n",
       "</table>\n",
       "</div>"
      ],
      "text/plain": [
       "           a         b         c         d         e         f    g\n",
       "0   1.562866  1.540430  1.002097  1.892743  1.289639  7.287775  LT8\n",
       "1   1.761717  1.404148  1.986906  1.010405  1.848670  8.011845  GT8\n",
       "2   1.222701  1.147907  1.589667  1.626879  1.146205  6.733360  LT8\n",
       "3   1.334422  1.611106  1.354063  1.648713  1.436213  7.384518  LT8\n",
       "4   1.857270  1.372319  1.201885  1.344395  1.767730  7.543600  LT8\n",
       "5   1.259130  1.215373  1.733783  1.879642  1.528853  7.616780  LT8\n",
       "6   1.268706  1.125834  1.253707  1.998959  1.842183  7.489390  LT8\n",
       "7   1.170351  1.896404  1.828639  1.172243  1.286269  7.353907  LT8\n",
       "8   1.310751  1.708936  1.130852  1.187936  1.669608  7.008083  LT8\n",
       "9   1.977075  1.753406  1.372753  1.350698  1.128289  7.582220  LT8\n",
       "10  1.759233  1.941591  1.686697  1.813059  1.429207  8.629787  GT8\n",
       "11  1.730490  1.519409  1.188241  1.794618  1.870900  8.103658  GT8\n",
       "12  1.130233  1.108500  1.305593  1.483942  1.780103  6.808371  LT8\n",
       "13  1.858939  1.857200  1.905330  1.066345  1.826778  8.514592  GT8\n",
       "14  1.995045  1.167532  1.436672  1.452714  1.093976  7.145940  LT8\n",
       "15  1.501652  1.232593  1.661525  1.345384  1.456278  7.197433  LT8\n",
       "16  1.191327  1.814711  1.463231  1.935142  1.427525  7.831936  LT8\n",
       "17  1.456440  1.796830  1.127528  1.955747  1.347086  7.683631  LT8\n",
       "18  1.168618  1.966961  1.982616  1.151999  1.423820  7.694013  LT8\n",
       "19  1.234491  1.981485  1.380547  1.767562  1.727875  8.091960  GT8"
      ]
     },
     "metadata": {},
     "output_type": "display_data"
    }
   ],
   "source": [
    "df['g']=np.where(df['f']<8,'LT8','GT8')\n",
    "df"
   ]
  },
  {
   "attachments": {},
   "cell_type": "markdown",
   "metadata": {},
   "source": [
    "Note: since the dataframe has value randomly generated the answers to the questions would vary."
   ]
  },
  {
   "attachments": {},
   "cell_type": "markdown",
   "metadata": {},
   "source": [
    "<h1>Question12</h1>"
   ]
  },
  {
   "cell_type": "code",
   "execution_count": null,
   "metadata": {},
   "outputs": [],
   "source": [
    "#import numpy\n",
    "import numpy as np"
   ]
  },
  {
   "cell_type": "code",
   "execution_count": null,
   "metadata": {},
   "outputs": [
    {
     "name": "stdout",
     "output_type": "stream",
     "text": [
      "[[10 10 10]\n",
      " [13 13 13]\n",
      " [16 16 16]] \n",
      "\n",
      "[[-8 -6 -4]\n",
      " [-5 -3 -1]\n",
      " [-2  0  2]]\n"
     ]
    }
   ],
   "source": [
    "# Create a 3x3 matrix and a 1x3 vector\n",
    "a = np.array([[1, 2, 3], [4, 5, 6], [7, 8, 9]])\n",
    "b = np.array([9,8,7])\n",
    "\n",
    "# Broadcast the vector to a 3x3 matrix\n",
    "broadcast1 = a + b\n",
    "broadcast2 = a - b\n",
    "\n",
    "print(broadcast1,\"\\n\")\n",
    "print(broadcast2)\n"
   ]
  },
  {
   "attachments": {},
   "cell_type": "markdown",
   "metadata": {},
   "source": [
    "<h3>Broadcasting</h1>\n",
    "In broadcasting, the smaller array is strectched and duplicating filling the extra space with 0 so that all the matrices involved in the operation are of same size so the operations can be conducted element wise.\n",
    "It results in mathematical operation between arrays of different sizes.\n",
    "Here in the code above matrix a is of *3x3* and matrix b is of size *1x3*, in broadcasting matrix b is strechted so that the element wise operations are conducted."
   ]
  },
  {
   "attachments": {},
   "cell_type": "markdown",
   "metadata": {},
   "source": [
    "<h1>Question13</h1>"
   ]
  },
  {
   "cell_type": "code",
   "execution_count": null,
   "metadata": {},
   "outputs": [],
   "source": [
    "#import numpy\n",
    "import numpy as np"
   ]
  },
  {
   "cell_type": "code",
   "execution_count": null,
   "metadata": {},
   "outputs": [],
   "source": [
    "def argmin(arr):\n",
    "    min_val = arr[0]\n",
    "    index = 0\n",
    "    for i in range(len(arr)):\n",
    "        if arr[i] < min_val:\n",
    "            min_val = arr[i]\n",
    "            min_index = i\n",
    "    return min_index"
   ]
  },
  {
   "cell_type": "code",
   "execution_count": null,
   "metadata": {},
   "outputs": [
    {
     "name": "stdout",
     "output_type": "stream",
     "text": [
      "4\n"
     ]
    },
    {
     "data": {
      "text/plain": [
       "4"
      ]
     },
     "metadata": {},
     "output_type": "display_data"
    }
   ],
   "source": [
    "arr=np.array([4,6,7,8,2,3,10])\n",
    "print(argmin(arr))\n",
    "#verifying\n",
    "np.argmin(arr)\n"
   ]
  }
 ],
 "metadata": {
  "kernelspec": {
   "display_name": "Python 3",
   "language": "python",
   "name": "python3"
  },
  "language_info": {
   "codemirror_mode": {
    "name": "ipython",
    "version": 3
   },
   "file_extension": ".py",
   "mimetype": "text/x-python",
   "name": "python",
   "nbconvert_exporter": "python",
   "pygments_lexer": "ipython3",
   "version": "3.9.12"
  },
  "orig_nbformat": 4,
  "vscode": {
   "interpreter": {
    "hash": "b0fa6594d8f4cbf19f97940f81e996739fb7646882a419484c72d19e05852a7e"
   }
  }
 },
 "nbformat": 4,
 "nbformat_minor": 2
}
