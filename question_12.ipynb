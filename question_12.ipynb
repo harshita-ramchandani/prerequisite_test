{
 "cells": [
  {
   "cell_type": "code",
   "execution_count": 12,
   "metadata": {},
   "outputs": [],
   "source": [
    "#import numpy\n",
    "import numpy as np"
   ]
  },
  {
   "cell_type": "code",
   "execution_count": 13,
   "metadata": {},
   "outputs": [
    {
     "name": "stdout",
     "output_type": "stream",
     "text": [
      "[[10 10 10]\n",
      " [13 13 13]\n",
      " [16 16 16]] \n",
      "\n",
      "[[-8 -6 -4]\n",
      " [-5 -3 -1]\n",
      " [-2  0  2]]\n"
     ]
    }
   ],
   "source": [
    "# Create a 3x3 matrix and a 1x3 vector\n",
    "a = np.array([[1, 2, 3], [4, 5, 6], [7, 8, 9]])\n",
    "b = np.array([9,8,7])\n",
    "\n",
    "# Broadcast the vector to a 3x3 matrix\n",
    "broadcast1 = a + b\n",
    "broadcast2 = a - b\n",
    "\n",
    "print(broadcast1,\"\\n\")\n",
    "print(broadcast2)\n"
   ]
  },
  {
   "attachments": {},
   "cell_type": "markdown",
   "metadata": {},
   "source": [
    "In broadcasting, the smaller array is strectched and duplicating filling the extra space with 0 so that all the matrices involved in the operation are of same size so the operations can be conducted element wise.\n",
    "It results in mathematical operation between arrays of different sizes.\n",
    "Here in the code above matrix a is of *3x3* and matrix b is of size *1x3*, in broadcasting matrix b is strechted so that the element wise operations are conducted."
   ]
  }
 ],
 "metadata": {
  "kernelspec": {
   "display_name": "Python 3",
   "language": "python",
   "name": "python3"
  },
  "language_info": {
   "codemirror_mode": {
    "name": "ipython",
    "version": 3
   },
   "file_extension": ".py",
   "mimetype": "text/x-python",
   "name": "python",
   "nbconvert_exporter": "python",
   "pygments_lexer": "ipython3",
   "version": "3.9.12"
  },
  "orig_nbformat": 4,
  "vscode": {
   "interpreter": {
    "hash": "b0fa6594d8f4cbf19f97940f81e996739fb7646882a419484c72d19e05852a7e"
   }
  }
 },
 "nbformat": 4,
 "nbformat_minor": 2
}
