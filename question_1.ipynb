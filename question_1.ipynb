{
 "cells": [
  {
   "attachments": {},
   "cell_type": "markdown",
   "metadata": {},
   "source": [
    "If we have two vector matrices. Of dimensions *kx1* and 1xk, The resultant of this matrix multiplication will consist of a scalar which would have *k* multiplications and *(k-1)* additions.\n",
    "\n",
    "Now, if we repeat the process with matrices *(n,k)* and *(k,m)* the total multiplications required would be k*m*n and total additions would be (k-1)*m*n"
   ]
  }
 ],
 "metadata": {
  "kernelspec": {
   "display_name": "Python 3",
   "language": "python",
   "name": "python3"
  },
  "language_info": {
   "name": "python",
   "version": "3.9.12 (main, Mar 26 2022, 15:44:31) \n[Clang 13.1.6 (clang-1316.0.21.2)]"
  },
  "orig_nbformat": 4,
  "vscode": {
   "interpreter": {
    "hash": "b0fa6594d8f4cbf19f97940f81e996739fb7646882a419484c72d19e05852a7e"
   }
  }
 },
 "nbformat": 4,
 "nbformat_minor": 2
}
