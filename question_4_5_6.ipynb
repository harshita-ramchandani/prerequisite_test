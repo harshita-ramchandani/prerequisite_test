{
 "cells": [
  {
   "attachments": {},
   "cell_type": "markdown",
   "metadata": {},
   "source": [
    "<h1>Question 4</h1>"
   ]
  },
  {
   "attachments": {},
   "cell_type": "markdown",
   "metadata": {},
   "source": [
    "$$\n",
    "\\begin{gathered}\n",
    "x^2 y+y^3 \\sin x \\\\\n",
    "\\left.\\frac{\\partial\\left(x^2 y\\right.}{\\partial x}+y^3 \\sin x\\right) \\\\\n",
    "=2 x y+ y^3 \\cos x\n",
    "\\end{gathered}\n",
    "$$\n"
   ]
  },
  {
   "attachments": {},
   "cell_type": "markdown",
   "metadata": {},
   "source": [
    "<h1>Question 5</h1>"
   ]
  },
  {
   "cell_type": "code",
   "execution_count": 52,
   "metadata": {},
   "outputs": [
    {
     "ename": "ImportError",
     "evalue": "cannot import name 'cusolver' from 'jaxlib' (/opt/homebrew/lib/python3.9/site-packages/jaxlib/__init__.py)",
     "output_type": "error",
     "traceback": [
      "\u001b[0;31m---------------------------------------------------------------------------\u001b[0m",
      "\u001b[0;31mImportError\u001b[0m                               Traceback (most recent call last)",
      "\u001b[1;32m/Users/harshitaramchandani/Documents/try/question_4.ipynb Cell 2\u001b[0m in \u001b[0;36m<cell line: 1>\u001b[0;34m()\u001b[0m\n\u001b[0;32m----> <a href='vscode-notebook-cell:/Users/harshitaramchandani/Documents/try/question_4.ipynb#W2sZmlsZQ%3D%3D?line=0'>1</a>\u001b[0m \u001b[39mimport\u001b[39;00m \u001b[39mjax\u001b[39;00m\u001b[39m.\u001b[39;00m\u001b[39mnumpy\u001b[39;00m \u001b[39mas\u001b[39;00m \u001b[39mjnp\u001b[39;00m\n\u001b[1;32m      <a href='vscode-notebook-cell:/Users/harshitaramchandani/Documents/try/question_4.ipynb#W2sZmlsZQ%3D%3D?line=1'>2</a>\u001b[0m \u001b[39m#grad function to claculate gradient\u001b[39;00m\n\u001b[1;32m      <a href='vscode-notebook-cell:/Users/harshitaramchandani/Documents/try/question_4.ipynb#W2sZmlsZQ%3D%3D?line=2'>3</a>\u001b[0m \u001b[39mfrom\u001b[39;00m \u001b[39mjax\u001b[39;00m \u001b[39mimport\u001b[39;00m grad\n",
      "File \u001b[0;32m/opt/homebrew/lib/python3.9/site-packages/jax/__init__.py:22\u001b[0m, in \u001b[0;36m<module>\u001b[0;34m\u001b[0m\n\u001b[1;32m     20\u001b[0m \u001b[39m# flake8: noqa: F401\u001b[39;00m\n\u001b[1;32m     21\u001b[0m \u001b[39mfrom\u001b[39;00m \u001b[39m.\u001b[39;00m\u001b[39mconfig\u001b[39;00m \u001b[39mimport\u001b[39;00m config\n\u001b[0;32m---> 22\u001b[0m \u001b[39mfrom\u001b[39;00m \u001b[39m.\u001b[39;00m\u001b[39mapi\u001b[39;00m \u001b[39mimport\u001b[39;00m (\n\u001b[1;32m     23\u001b[0m   ad,  \u001b[39m# TODO(phawkins): update users to avoid this.\u001b[39;00m\n\u001b[1;32m     24\u001b[0m   argnums_partial,  \u001b[39m# TODO(phawkins): update Haiku to not use this.\u001b[39;00m\n\u001b[1;32m     25\u001b[0m   checkpoint,\n\u001b[1;32m     26\u001b[0m   curry,  \u001b[39m# TODO(phawkins): update users to avoid this.\u001b[39;00m\n\u001b[1;32m     27\u001b[0m   custom_ivjp,\n\u001b[1;32m     28\u001b[0m   custom_gradient,\n\u001b[1;32m     29\u001b[0m   custom_jvp,\n\u001b[1;32m     30\u001b[0m   custom_vjp,\n\u001b[1;32m     31\u001b[0m   custom_transforms,\n\u001b[1;32m     32\u001b[0m   defjvp,\n\u001b[1;32m     33\u001b[0m   defjvp_all,\n\u001b[1;32m     34\u001b[0m   defvjp,\n\u001b[1;32m     35\u001b[0m   defvjp_all,\n\u001b[1;32m     36\u001b[0m   device_count,\n\u001b[1;32m     37\u001b[0m   device_get,\n\u001b[1;32m     38\u001b[0m   device_put,\n\u001b[1;32m     39\u001b[0m   device_put_sharded,\n\u001b[1;32m     40\u001b[0m   device_put_replicated,\n\u001b[1;32m     41\u001b[0m   devices,\n\u001b[1;32m     42\u001b[0m   disable_jit,\n\u001b[1;32m     43\u001b[0m   eval_shape,\n\u001b[1;32m     44\u001b[0m   flatten_fun_nokwargs,  \u001b[39m# TODO(phawkins): update users to avoid this.\u001b[39;00m\n\u001b[1;32m     45\u001b[0m   float0,\n\u001b[1;32m     46\u001b[0m   grad,\n\u001b[1;32m     47\u001b[0m   hessian,\n\u001b[1;32m     48\u001b[0m   host_count,\n\u001b[1;32m     49\u001b[0m   host_id,\n\u001b[1;32m     50\u001b[0m   host_ids,\n\u001b[1;32m     51\u001b[0m   invertible,\n\u001b[1;32m     52\u001b[0m   jacobian,\n\u001b[1;32m     53\u001b[0m   jacfwd,\n\u001b[1;32m     54\u001b[0m   jacrev,\n\u001b[1;32m     55\u001b[0m   jit,\n\u001b[1;32m     56\u001b[0m   jvp,\n\u001b[1;32m     57\u001b[0m   local_device_count,\n\u001b[1;32m     58\u001b[0m   local_devices,\n\u001b[1;32m     59\u001b[0m   linearize,\n\u001b[1;32m     60\u001b[0m   linear_transpose,\n\u001b[1;32m     61\u001b[0m   make_jaxpr,\n\u001b[1;32m     62\u001b[0m   mask,\n\u001b[1;32m     63\u001b[0m   named_call,\n\u001b[1;32m     64\u001b[0m   partial,  \u001b[39m# TODO(phawkins): update callers to use functools.partial.\u001b[39;00m\n\u001b[1;32m     65\u001b[0m   pmap,\n\u001b[1;32m     66\u001b[0m   pxla,  \u001b[39m# TODO(phawkins): update users to avoid this.\u001b[39;00m\n\u001b[1;32m     67\u001b[0m   remat,\n\u001b[1;32m     68\u001b[0m   shapecheck,\n\u001b[1;32m     69\u001b[0m   ShapedArray,\n\u001b[1;32m     70\u001b[0m   ShapeDtypeStruct,\n\u001b[1;32m     71\u001b[0m   soft_pmap,\n\u001b[1;32m     72\u001b[0m   \u001b[39m# TODO(phawkins): hide tree* functions from jax, update callers to use\u001b[39;00m\n\u001b[1;32m     73\u001b[0m   \u001b[39m# jax.tree_util.\u001b[39;00m\n\u001b[1;32m     74\u001b[0m   treedef_is_leaf,\n\u001b[1;32m     75\u001b[0m   tree_flatten,\n\u001b[1;32m     76\u001b[0m   tree_leaves,\n\u001b[1;32m     77\u001b[0m   tree_map,\n\u001b[1;32m     78\u001b[0m   tree_multimap,\n\u001b[1;32m     79\u001b[0m   tree_structure,\n\u001b[1;32m     80\u001b[0m   tree_transpose,\n\u001b[1;32m     81\u001b[0m   tree_unflatten,\n\u001b[1;32m     82\u001b[0m   value_and_grad,\n\u001b[1;32m     83\u001b[0m   vjp,\n\u001b[1;32m     84\u001b[0m   vmap,\n\u001b[1;32m     85\u001b[0m   xla,  \u001b[39m# TODO(phawkins): update users to avoid this.\u001b[39;00m\n\u001b[1;32m     86\u001b[0m   xla_computation,\n\u001b[1;32m     87\u001b[0m )\n\u001b[1;32m     88\u001b[0m \u001b[39mfrom\u001b[39;00m \u001b[39m.\u001b[39;00m\u001b[39mversion\u001b[39;00m \u001b[39mimport\u001b[39;00m __version__\n\u001b[1;32m     90\u001b[0m \u001b[39m# These submodules are separate because they are in an import cycle with\u001b[39;00m\n\u001b[1;32m     91\u001b[0m \u001b[39m# jax and rely on the names imported above.\u001b[39;00m\n",
      "File \u001b[0;32m/opt/homebrew/lib/python3.9/site-packages/jax/api.py:37\u001b[0m, in \u001b[0;36m<module>\u001b[0;34m\u001b[0m\n\u001b[1;32m     34\u001b[0m \u001b[39mimport\u001b[39;00m \u001b[39mnumpy\u001b[39;00m \u001b[39mas\u001b[39;00m \u001b[39mnp\u001b[39;00m\n\u001b[1;32m     35\u001b[0m \u001b[39mfrom\u001b[39;00m \u001b[39mcontextlib\u001b[39;00m \u001b[39mimport\u001b[39;00m contextmanager, ExitStack\n\u001b[0;32m---> 37\u001b[0m \u001b[39mfrom\u001b[39;00m \u001b[39m.\u001b[39;00m \u001b[39mimport\u001b[39;00m core\n\u001b[1;32m     38\u001b[0m \u001b[39mfrom\u001b[39;00m \u001b[39m.\u001b[39;00m \u001b[39mimport\u001b[39;00m lib\n\u001b[1;32m     39\u001b[0m \u001b[39mfrom\u001b[39;00m \u001b[39m.\u001b[39;00m \u001b[39mimport\u001b[39;00m linear_util \u001b[39mas\u001b[39;00m lu\n",
      "File \u001b[0;32m/opt/homebrew/lib/python3.9/site-packages/jax/core.py:31\u001b[0m, in \u001b[0;36m<module>\u001b[0;34m\u001b[0m\n\u001b[1;32m     25\u001b[0m \u001b[39mfrom\u001b[39;00m \u001b[39mtyping\u001b[39;00m \u001b[39mimport\u001b[39;00m (Any, Callable, ClassVar, Dict, Generator,\n\u001b[1;32m     26\u001b[0m                     Iterator, List, NamedTuple, Optional, Sequence, Set, Tuple,\n\u001b[1;32m     27\u001b[0m                     Type, Union, cast, Iterable, Hashable)\n\u001b[1;32m     29\u001b[0m \u001b[39mimport\u001b[39;00m \u001b[39mnumpy\u001b[39;00m \u001b[39mas\u001b[39;00m \u001b[39mnp\u001b[39;00m\n\u001b[0;32m---> 31\u001b[0m \u001b[39mfrom\u001b[39;00m \u001b[39m.\u001b[39;00m \u001b[39mimport\u001b[39;00m dtypes\n\u001b[1;32m     32\u001b[0m \u001b[39mfrom\u001b[39;00m \u001b[39m.\u001b[39;00m\u001b[39mconfig\u001b[39;00m \u001b[39mimport\u001b[39;00m FLAGS, config\n\u001b[1;32m     33\u001b[0m \u001b[39mfrom\u001b[39;00m \u001b[39m.\u001b[39;00m \u001b[39mimport\u001b[39;00m linear_util \u001b[39mas\u001b[39;00m lu\n",
      "File \u001b[0;32m/opt/homebrew/lib/python3.9/site-packages/jax/dtypes.py:31\u001b[0m, in \u001b[0;36m<module>\u001b[0;34m\u001b[0m\n\u001b[1;32m     29\u001b[0m \u001b[39mfrom\u001b[39;00m \u001b[39m.\u001b[39;00m \u001b[39mimport\u001b[39;00m util\n\u001b[1;32m     30\u001b[0m \u001b[39mfrom\u001b[39;00m \u001b[39m.\u001b[39;00m\u001b[39mconfig\u001b[39;00m \u001b[39mimport\u001b[39;00m flags\n\u001b[0;32m---> 31\u001b[0m \u001b[39mfrom\u001b[39;00m \u001b[39m.\u001b[39;00m\u001b[39mlib\u001b[39;00m \u001b[39mimport\u001b[39;00m xla_client\n\u001b[1;32m     33\u001b[0m \u001b[39mfrom\u001b[39;00m \u001b[39m.\u001b[39;00m\u001b[39m_src\u001b[39;00m \u001b[39mimport\u001b[39;00m traceback_util\n\u001b[1;32m     34\u001b[0m traceback_util\u001b[39m.\u001b[39mregister_exclusion(\u001b[39m__file__\u001b[39m)\n",
      "File \u001b[0;32m/opt/homebrew/lib/python3.9/site-packages/jax/lib/__init__.py:60\u001b[0m, in \u001b[0;36m<module>\u001b[0;34m\u001b[0m\n\u001b[1;32m     58\u001b[0m   pytree \u001b[39m=\u001b[39m xla_client\u001b[39m.\u001b[39m_xla\u001b[39m.\u001b[39mpytree\n\u001b[1;32m     59\u001b[0m   jax_jit \u001b[39m=\u001b[39m xla_client\u001b[39m.\u001b[39m_xla\u001b[39m.\u001b[39mjax_jit\n\u001b[0;32m---> 60\u001b[0m \u001b[39mfrom\u001b[39;00m \u001b[39mjaxlib\u001b[39;00m \u001b[39mimport\u001b[39;00m cusolver\n\u001b[1;32m     61\u001b[0m \u001b[39mtry\u001b[39;00m:\n\u001b[1;32m     62\u001b[0m   \u001b[39mfrom\u001b[39;00m \u001b[39mjaxlib\u001b[39;00m \u001b[39mimport\u001b[39;00m cuda_prng\n",
      "\u001b[0;31mImportError\u001b[0m: cannot import name 'cusolver' from 'jaxlib' (/opt/homebrew/lib/python3.9/site-packages/jaxlib/__init__.py)"
     ]
    }
   ],
   "source": [
    "import jax.numpy as jnp\n",
    "#grad function to claculate gradient\n",
    "from jax import grad\n",
    "# while running on my system it gave an error \"ImportError: cannot \n",
    "# import name 'cusolver' from 'jaxlib' (/opt/homebrew/lib/python3.9/site-packages/jaxlib/__init__.py)\"\n",
    "# there was an issue of system compatibility and different versions of jax"
   ]
  },
  {
   "cell_type": "code",
   "execution_count": 54,
   "metadata": {},
   "outputs": [
    {
     "ename": "NameError",
     "evalue": "name 'grad' is not defined",
     "output_type": "error",
     "traceback": [
      "\u001b[0;31m---------------------------------------------------------------------------\u001b[0m",
      "\u001b[0;31mNameError\u001b[0m                                 Traceback (most recent call last)",
      "\u001b[1;32m/Users/harshitaramchandani/Documents/try/question_4.ipynb Cell 3\u001b[0m in \u001b[0;36m<cell line: 5>\u001b[0;34m()\u001b[0m\n\u001b[1;32m      <a href='vscode-notebook-cell:/Users/harshitaramchandani/Documents/try/question_4.ipynb#W5sZmlsZQ%3D%3D?line=1'>2</a>\u001b[0m   \u001b[39mreturn\u001b[39;00m x \u001b[39m*\u001b[39m\u001b[39m*\u001b[39m \u001b[39m2\u001b[39m \u001b[39m*\u001b[39m y \u001b[39m+\u001b[39m y \u001b[39m*\u001b[39m\u001b[39m*\u001b[39m \u001b[39m3\u001b[39m \u001b[39m*\u001b[39m jnp\u001b[39m.\u001b[39msin(x)\n\u001b[1;32m      <a href='vscode-notebook-cell:/Users/harshitaramchandani/Documents/try/question_4.ipynb#W5sZmlsZQ%3D%3D?line=3'>4</a>\u001b[0m \u001b[39m# Compute the gradient of f with respect to x and y\u001b[39;00m\n\u001b[0;32m----> <a href='vscode-notebook-cell:/Users/harshitaramchandani/Documents/try/question_4.ipynb#W5sZmlsZQ%3D%3D?line=4'>5</a>\u001b[0m dfdx, dfdy \u001b[39m=\u001b[39m grad(f)(x, y)\n",
      "\u001b[0;31mNameError\u001b[0m: name 'grad' is not defined"
     ]
    }
   ],
   "source": [
    "def f(x, y):\n",
    "  return x ** 2 * y + y ** 3 * jnp.sin(x)\n",
    "\n",
    "# Compute the gradient of f with respect to x and y\n",
    "dfdx, dfdy = grad(f)(x, y)\n"
   ]
  },
  {
   "cell_type": "code",
   "execution_count": 55,
   "metadata": {},
   "outputs": [
    {
     "ename": "TypeError",
     "evalue": "'Add' object is not callable",
     "output_type": "error",
     "traceback": [
      "\u001b[0;31m---------------------------------------------------------------------------\u001b[0m",
      "\u001b[0;31mTypeError\u001b[0m                                 Traceback (most recent call last)",
      "\u001b[1;32m/Users/harshitaramchandani/Documents/try/question_4.ipynb Cell 4\u001b[0m in \u001b[0;36m<cell line: 4>\u001b[0;34m()\u001b[0m\n\u001b[1;32m      <a href='vscode-notebook-cell:/Users/harshitaramchandani/Documents/try/question_4.ipynb#W6sZmlsZQ%3D%3D?line=1'>2</a>\u001b[0m x_val \u001b[39m=\u001b[39m \u001b[39m1\u001b[39m\n\u001b[1;32m      <a href='vscode-notebook-cell:/Users/harshitaramchandani/Documents/try/question_4.ipynb#W6sZmlsZQ%3D%3D?line=2'>3</a>\u001b[0m y_val \u001b[39m=\u001b[39m \u001b[39m2\u001b[39m\n\u001b[0;32m----> <a href='vscode-notebook-cell:/Users/harshitaramchandani/Documents/try/question_4.ipynb#W6sZmlsZQ%3D%3D?line=3'>4</a>\u001b[0m grad_at_xy \u001b[39m=\u001b[39m dfdx(x_val, y_val), dfdy(x_val, y_val)\n\u001b[1;32m      <a href='vscode-notebook-cell:/Users/harshitaramchandani/Documents/try/question_4.ipynb#W6sZmlsZQ%3D%3D?line=5'>6</a>\u001b[0m \u001b[39mprint\u001b[39m(grad_at_xy)\n",
      "\u001b[0;31mTypeError\u001b[0m: 'Add' object is not callable"
     ]
    }
   ],
   "source": [
    "# Evaluate the gradient at x=1 and y=2\n",
    "x_val = 1\n",
    "y_val = 2\n",
    "grad_at_xy = dfdx(x_val, y_val), dfdy(x_val, y_val)\n",
    "\n",
    "print(grad_at_xy)"
   ]
  },
  {
   "attachments": {},
   "cell_type": "markdown",
   "metadata": {},
   "source": [
    "<h1>Question 6</h1>"
   ]
  },
  {
   "cell_type": "code",
   "execution_count": 56,
   "metadata": {},
   "outputs": [
    {
     "name": "stdout",
     "output_type": "stream",
     "text": [
      "8.32241844694512\n"
     ]
    }
   ],
   "source": [
    "from sympy import symbols, diff, sin as symbolic_sin\n",
    "\n",
    "def f(x, y):\n",
    "  return x ** 2 * y + y ** 3 * symbolic_sin(x)\n",
    "\n",
    "# Define x and y as symbolic variables\n",
    "x, y = symbols('x y')\n",
    "xcoordinate= 1\n",
    "ycoordinate= 2\n",
    "\n",
    "# Compute the partial derivative of f with respect to x\n",
    "dfdx = diff(f(x, y), x)\n",
    "\n",
    "# Evaluate the partial derivative at x=1 and y=2\n",
    "dfdx_at_xy = dfdx.evalf(subs={x: xcoordinate, y: ycoordinate})\n",
    "\n",
    "print(dfdx_at_xy) "
   ]
  },
  {
   "attachments": {},
   "cell_type": "markdown",
   "metadata": {},
   "source": [
    "Here x and y are in radians"
   ]
  }
 ],
 "metadata": {
  "kernelspec": {
   "display_name": "Python 3",
   "language": "python",
   "name": "python3"
  },
  "language_info": {
   "codemirror_mode": {
    "name": "ipython",
    "version": 3
   },
   "file_extension": ".py",
   "mimetype": "text/x-python",
   "name": "python",
   "nbconvert_exporter": "python",
   "pygments_lexer": "ipython3",
   "version": "3.9.12"
  },
  "orig_nbformat": 4,
  "vscode": {
   "interpreter": {
    "hash": "b0fa6594d8f4cbf19f97940f81e996739fb7646882a419484c72d19e05852a7e"
   }
  }
 },
 "nbformat": 4,
 "nbformat_minor": 2
}
