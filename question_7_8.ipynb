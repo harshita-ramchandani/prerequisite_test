{
 "cells": [
  {
   "attachments": {},
   "cell_type": "markdown",
   "metadata": {},
   "source": [
    "<h1>Question 7</h1>"
   ]
  },
  {
   "cell_type": "code",
   "execution_count": 23,
   "metadata": {},
   "outputs": [],
   "source": [
    "#all the values for all the students are kept same\n",
    "student_dict = {\n",
    "  2022: {\n",
    "    \"Branch 1\": {\n",
    "      1: {\"Name\": \"N\", \"Marks\": {\"Maths\": 100, \"English\": 70}},\n",
    "      2: {\"Name\": \"N\", \"Marks\": {\"Maths\": 100, \"English\": 70}},\n",
    "    },\n",
    "    \"Branch 2\": {\n",
    "      1: {\"Name\": \"N\", \"Marks\": {\"Maths\": 100, \"English\": 70}},\n",
    "      2: {\"Name\": \"N\", \"Marks\": {\"Maths\": 100, \"English\": 70}},\n",
    "    },\n",
    "  },\n",
    "  2023: {\n",
    "    \"Branch 1\": {\n",
    "      1: {\"Name\": \"N\", \"Marks\": {\"Maths\": 100, \"English\": 70}},\n",
    "      2: {\"Name\": \"N\", \"Marks\": {\"Maths\": 100, \"English\": 70}},\n",
    "    },\n",
    "    \"Branch 2\": {\n",
    "      1: {\"Name\": \"N\", \"Marks\": {\"Maths\": 100, \"English\": 70}},\n",
    "      2: {\"Name\": \"N\", \"Marks\": {\"Maths\": 100, \"English\": 70}},\n",
    "    },\n",
    "  },\n",
    "  2024: {\n",
    "    \"Branch 1\": {\n",
    "      1: {\"Name\": \"N\", \"Marks\": {\"Maths\": 100, \"English\": 70}},\n",
    "      2: {\"Name\": \"N\", \"Marks\": {\"Maths\": 100, \"English\": 70}},\n",
    "    },\n",
    "    \"Branch 2\": {\n",
    "      1: {\"Name\": \"N\", \"Marks\": {\"Maths\": 100, \"English\": 70}},\n",
    "      2: {\"Name\": \"N\", \"Marks\": {\"Maths\": 100, \"English\": 70}},\n",
    "    },\n",
    "  },\n",
    "  2025: {\n",
    "    \"Branch 1\": {\n",
    "     1: {\"Name\": \"N\", \"Marks\": {\"Maths\": 100, \"English\": 70}},\n",
    "      2: {\"Name\": \"N\", \"Marks\": {\"Maths\": 100, \"English\": 70}},\n",
    "    },\n",
    "    \"Branch 2\": {\n",
    "      1: {\"Name\": \"N\", \"Marks\": {\"Maths\": 100, \"English\": 70}},\n",
    "      2: {\"Name\": \"N\", \"Marks\": {\"Maths\": 100, \"English\": 70}},\n",
    "    },\n",
    "  },\n",
    "}\n",
    "\n"
   ]
  },
  {
   "cell_type": "code",
   "execution_count": 24,
   "metadata": {},
   "outputs": [
    {
     "name": "stdout",
     "output_type": "stream",
     "text": [
      "{2022: {'Branch 1': {1: {'Name': 'N', 'Marks': {'Maths': 100, 'English': 70}}, 2: {'Name': 'N', 'Marks': {'Maths': 100, 'English': 70}}}, 'Branch 2': {1: {'Name': 'N', 'Marks': {'Maths': 100, 'English': 70}}, 2: {'Name': 'N', 'Marks': {'Maths': 100, 'English': 70}}}}, 2023: {'Branch 1': {1: {'Name': 'N', 'Marks': {'Maths': 100, 'English': 70}}, 2: {'Name': 'N', 'Marks': {'Maths': 100, 'English': 70}}}, 'Branch 2': {1: {'Name': 'N', 'Marks': {'Maths': 100, 'English': 70}}, 2: {'Name': 'N', 'Marks': {'Maths': 100, 'English': 70}}}}, 2024: {'Branch 1': {1: {'Name': 'N', 'Marks': {'Maths': 100, 'English': 70}}, 2: {'Name': 'N', 'Marks': {'Maths': 100, 'English': 70}}}, 'Branch 2': {1: {'Name': 'N', 'Marks': {'Maths': 100, 'English': 70}}, 2: {'Name': 'N', 'Marks': {'Maths': 100, 'English': 70}}}}, 2025: {'Branch 1': {1: {'Name': 'N', 'Marks': {'Maths': 100, 'English': 70}}, 2: {'Name': 'N', 'Marks': {'Maths': 100, 'English': 70}}}, 'Branch 2': {1: {'Name': 'N', 'Marks': {'Maths': 100, 'English': 70}}, 2: {'Name': 'N', 'Marks': {'Maths': 100, 'English': 70}}}}}\n"
     ]
    }
   ],
   "source": [
    "#printing the dictionary\n",
    "print(student_dict)"
   ]
  },
  {
   "attachments": {},
   "cell_type": "markdown",
   "metadata": {},
   "source": [
    "<h1>Question 8</h1>"
   ]
  },
  {
   "cell_type": "code",
   "execution_count": 25,
   "metadata": {},
   "outputs": [],
   "source": [
    "class Student_dict:\n",
    "  def __init__(self, roll_number, name, marks):\n",
    "    self.roll_number = roll_number\n",
    "    self.name = name\n",
    "    self.marks = marks\n",
    "\n",
    "class Branch:\n",
    "  def __init__(self, students):\n",
    "    self.students = students\n",
    "\n",
    "class Year:\n",
    "  def __init__(self, branches):\n",
    "    self.branches = branches\n",
    "\n",
    "# Create student objects (just a test code threfore the values of all the students have been kept same)\n",
    "student1 = Student_dict(1, \"N\", {\"Maths\": 100, \"English\": 70})\n",
    "student2 = Student_dict(2, \"N\", {\"Maths\": 100, \"English\": 70})\n",
    "student3 = Student_dict(1, \"N\", {\"Maths\": 100, \"English\": 70})\n",
    "student4 = Student_dict(2, \"N\", {\"Maths\": 100, \"English\": 70})\n",
    "student5 = Student_dict(1, \"N\", {\"Maths\": 100, \"English\": 70})\n",
    "student6 = Student_dict(2, \"N\", {\"Maths\": 100, \"English\": 70})\n",
    "student7 = Student_dict(1, \"N\", {\"Maths\": 100, \"English\": 70})\n",
    "student8 = Student_dict(2, \"T\", {\"Maths\": 100, \"English\": 70})\n",
    "student9 = Student_dict(1, \"N\", {\"Maths\": 100, \"English\": 70})\n",
    "student10 = Student_dict(2, \"N\", {\"Maths\": 100, \"English\": 70})\n",
    "student11 = Student_dict(1, \"N\", {\"Maths\": 100, \"English\": 70})\n",
    "student12 = Student_dict(2, \"N\", {\"Maths\": 100, \"English\": 70})\n",
    "student13 = Student_dict(1, \"N\", {\"Maths\": 100, \"English\": 70})\n",
    "student14 = Student_dict(2, \"N\", {\"Maths\": 100, \"English\": 70})\n",
    "\n",
    "# Create branch objects\n",
    "branch1_2022 = Branch([student1, student2])\n",
    "branch2_2022 = Branch([student3, student4])\n",
    "branch1_2023 = Branch([student5, student6])\n",
    "branch2_2023 = Branch([student7, student8])\n",
    "branch1_2024 = Branch([student9, student10])\n",
    "branch2_2024 = Branch([student11, student12])\n",
    "branch1_2025 = Branch([student9, student10])\n",
    "branch2_2025 = Branch([student13, student14])\n",
    "\n",
    "\n",
    "# Create year objects\n",
    "year1 = Year([branch1_2022, branch2_2022])\n",
    "year2 = Year([branch1_2023, branch2_2023])\n",
    "year3 = Year([branch1_2024, branch2_2024])\n",
    "year4 = Year([branch1_2025, branch2_2025])\n",
    "\n",
    "# Overall database which is a list of year objects\n",
    "database = [year1, year2, year3]\n"
   ]
  }
 ],
 "metadata": {
  "kernelspec": {
   "display_name": "Python 3",
   "language": "python",
   "name": "python3"
  },
  "language_info": {
   "codemirror_mode": {
    "name": "ipython",
    "version": 3
   },
   "file_extension": ".py",
   "mimetype": "text/x-python",
   "name": "python",
   "nbconvert_exporter": "python",
   "pygments_lexer": "ipython3",
   "version": "3.9.12"
  },
  "orig_nbformat": 4,
  "vscode": {
   "interpreter": {
    "hash": "b0fa6594d8f4cbf19f97940f81e996739fb7646882a419484c72d19e05852a7e"
   }
  }
 },
 "nbformat": 4,
 "nbformat_minor": 2
}
