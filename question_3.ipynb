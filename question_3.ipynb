{
 "cells": [
  {
   "cell_type": "code",
   "execution_count": 15,
   "metadata": {},
   "outputs": [],
   "source": [
    "#this approach of sorting the array would take O(n^2)\n",
    "def maximum(l):\n",
    "    max=l[0]\n",
    "    for i in range(0,len(l)):\n",
    "        if(l[i]>max):\n",
    "            max=l[i]\n",
    "    l.remove(max)\n",
    "    return max\n",
    "    "
   ]
  },
  {
   "cell_type": "code",
   "execution_count": 16,
   "metadata": {},
   "outputs": [],
   "source": [
    "#finding the median would take constant time\n",
    "def median(arr):\n",
    "    if len(arr) % 2 == 0:\n",
    "        print((arr[len(arr) // 2] + arr[len(arr) // 2 - 1]) / 2)\n",
    "    else:\n",
    "        print(arr[len(arr) // 2])"
   ]
  },
  {
   "cell_type": "code",
   "execution_count": 26,
   "metadata": {},
   "outputs": [],
   "source": [
    "#using countsort algorithm this is of O(n)\n",
    "def countsort(arr):\n",
    "    size = len(arr)\n",
    "    output = [0] * size\n",
    "\n",
    "    # count array initialization\n",
    "    count = [0] * 10\n",
    "\n",
    "    # storing the count of each element \n",
    "    for m in range(0, size):\n",
    "        count[arr[m]] += 1\n",
    "\n",
    "    # storing the cumulative count\n",
    "    for m in range(1, 10):\n",
    "        count[m] += count[m - 1]\n",
    "\n",
    "    # place the elements in output array after finding the index of each element of original array in count array\n",
    "    m = size - 1\n",
    "    while m >= 0:\n",
    "        output[count[arr[m]] - 1] = arr[m]\n",
    "        count[arr[m]] -= 1\n",
    "        m -= 1\n",
    "\n",
    "    for m in range(0, size):\n",
    "        arr[m] = output[m]\n",
    "\n",
    "    if len(arr) % 2 == 0:\n",
    "        print((arr[len(arr) // 2] + arr[len(arr) // 2 - 1]) / 2)\n",
    "    else:\n",
    "        print(arr[len(arr) // 2])"
   ]
  },
  {
   "cell_type": "code",
   "execution_count": 18,
   "metadata": {},
   "outputs": [],
   "source": [
    "import numpy as np"
   ]
  },
  {
   "cell_type": "code",
   "execution_count": 19,
   "metadata": {},
   "outputs": [],
   "source": [
    "def median_np(arr):\n",
    "    return np.median(arr)"
   ]
  },
  {
   "cell_type": "code",
   "execution_count": 28,
   "metadata": {},
   "outputs": [
    {
     "name": "stdout",
     "output_type": "stream",
     "text": [
      "4\n",
      "The time of execution of above program is : 0.4048347473144531 ms\n"
     ]
    }
   ],
   "source": [
    "l=[1,2,3,4,5,6,7]\n",
    "#time module import\n",
    "import time\n",
    "#starting to record time\n",
    "start = time.time()\n",
    "sorted_arr=[]\n",
    "while(len(l)>0):\n",
    "    num=maximum(l)\n",
    "    sorted_arr.append(num)\n",
    "median(sorted_arr)\n",
    "end = time.time()\n",
    "\n",
    "print(\"The time of execution of above program is :\",\n",
    "      (end-start) * 10**3, \"ms\")"
   ]
  },
  {
   "cell_type": "code",
   "execution_count": 29,
   "metadata": {},
   "outputs": [
    {
     "name": "stdout",
     "output_type": "stream",
     "text": [
      "4\n",
      "The time of execution of above program is : 0.06008148193359375 ms\n"
     ]
    }
   ],
   "source": [
    "l=[1,2,3,4,5,6,7]\n",
    "#time module import\n",
    "import time\n",
    "#starting to record time\n",
    "start = time.time()\n",
    "countsort(l)\n",
    "end = time.time()\n",
    "\n",
    "print(\"The time of execution of above program is :\",\n",
    "      (end-start) * 10**3, \"ms\")"
   ]
  },
  {
   "cell_type": "code",
   "execution_count": 30,
   "metadata": {},
   "outputs": [
    {
     "name": "stdout",
     "output_type": "stream",
     "text": [
      "4.0\n",
      "The time of execution of above program is : 0.5900859832763672 ms\n"
     ]
    }
   ],
   "source": [
    "l=[1,2,3,4,5,6,7]\n",
    "#time module import\n",
    "import time\n",
    "#starting to record time\n",
    "start = time.time()\n",
    "print(median_np(l))\n",
    "end = time.time()\n",
    "\n",
    "print(\"The time of execution of above program is :\",\n",
    "      (end-start) * 10**3, \"ms\")"
   ]
  },
  {
   "attachments": {},
   "cell_type": "markdown",
   "metadata": {},
   "source": [
    "1. The execution time for the program which finds the median after sorting the array pass by pass(O(n^2) complexity) is 0.4048347473144531 ms.\n",
    "2. The execution time for the program which uses count sort(O(n)) algorithm is 0.06008148193359375 ms.\n",
    "3. The execution time for the program using numpy arrays is 0.5900859832763672 ms."
   ]
  }
 ],
 "metadata": {
  "kernelspec": {
   "display_name": "Python 3",
   "language": "python",
   "name": "python3"
  },
  "language_info": {
   "codemirror_mode": {
    "name": "ipython",
    "version": 3
   },
   "file_extension": ".py",
   "mimetype": "text/x-python",
   "name": "python",
   "nbconvert_exporter": "python",
   "pygments_lexer": "ipython3",
   "version": "3.9.12"
  },
  "orig_nbformat": 4,
  "vscode": {
   "interpreter": {
    "hash": "b0fa6594d8f4cbf19f97940f81e996739fb7646882a419484c72d19e05852a7e"
   }
  }
 },
 "nbformat": 4,
 "nbformat_minor": 2
}
